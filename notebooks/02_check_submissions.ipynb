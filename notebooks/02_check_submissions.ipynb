{
 "cells": [
  {
   "cell_type": "code",
   "execution_count": 16,
   "metadata": {},
   "outputs": [
    {
     "name": "stdout",
     "output_type": "stream",
     "text": [
      "../data/results/submission_2023-11-12_11:56:50.csv\n"
     ]
    },
    {
     "data": {
      "text/plain": [
       "1    0.811134\n",
       "0    0.188866\n",
       "Name: TARGET, dtype: float64"
      ]
     },
     "metadata": {},
     "output_type": "display_data"
    },
    {
     "name": "stdout",
     "output_type": "stream",
     "text": [
      "../data/results/submission_2023-11-12_12:13:57.csv\n"
     ]
    },
    {
     "data": {
      "text/plain": [
       "1    0.809439\n",
       "0    0.190561\n",
       "Name: TARGET, dtype: float64"
      ]
     },
     "metadata": {},
     "output_type": "display_data"
    },
    {
     "name": "stdout",
     "output_type": "stream",
     "text": [
      "../data/results/submission_2023-11-12_12:35:32.csv\n"
     ]
    },
    {
     "data": {
      "text/plain": [
       "1    0.809439\n",
       "0    0.190561\n",
       "Name: TARGET, dtype: float64"
      ]
     },
     "metadata": {},
     "output_type": "display_data"
    },
    {
     "name": "stdout",
     "output_type": "stream",
     "text": [
      "../data/results/submission_2023-11-12_12:52:09.csv\n"
     ]
    },
    {
     "data": {
      "text/plain": [
       "1    0.69177\n",
       "0    0.30823\n",
       "Name: TARGET, dtype: float64"
      ]
     },
     "metadata": {},
     "output_type": "display_data"
    },
    {
     "name": "stdout",
     "output_type": "stream",
     "text": [
      "../data/results/submission_2023-11-12_13:07:24.csv\n"
     ]
    },
    {
     "data": {
      "text/plain": [
       "0    0.559937\n",
       "1    0.440063\n",
       "Name: TARGET, dtype: float64"
      ]
     },
     "metadata": {},
     "output_type": "display_data"
    }
   ],
   "source": [
    "import os\n",
    "import glob\n",
    "import pandas as pd\n",
    "\n",
    "for file in sorted(glob.glob(\"../data/results/*\")):\n",
    "    print(file)\n",
    "    sub = pd.read_csv(file)\n",
    "    display(sub['TARGET'].value_counts(normalize=True))"
   ]
  }
 ],
 "metadata": {
  "kernelspec": {
   "display_name": "Python 3",
   "language": "python",
   "name": "python3"
  },
  "language_info": {
   "codemirror_mode": {
    "name": "ipython",
    "version": 3
   },
   "file_extension": ".py",
   "mimetype": "text/x-python",
   "name": "python",
   "nbconvert_exporter": "python",
   "pygments_lexer": "ipython3",
   "version": "3.10.12"
  }
 },
 "nbformat": 4,
 "nbformat_minor": 2
}
