{
 "cells": [
  {
   "cell_type": "code",
   "execution_count": 1,
   "metadata": {},
   "outputs": [
    {
     "name": "stdout",
     "output_type": "stream",
     "text": [
      "../data/results/catboost.csv\n"
     ]
    },
    {
     "data": {
      "text/plain": [
       "1.0    0.66619\n",
       "0.0    0.33381\n",
       "Name: TARGET, dtype: float64"
      ]
     },
     "metadata": {},
     "output_type": "display_data"
    },
    {
     "name": "stdout",
     "output_type": "stream",
     "text": [
      "../data/results/catboost_cv.csv\n"
     ]
    },
    {
     "data": {
      "text/plain": [
       "0    0.831812\n",
       "1    0.168188\n",
       "Name: TARGET, dtype: float64"
      ]
     },
     "metadata": {},
     "output_type": "display_data"
    },
    {
     "name": "stdout",
     "output_type": "stream",
     "text": [
      "../data/results/catboost_max.csv\n"
     ]
    },
    {
     "data": {
      "text/plain": [
       "0.0    0.836697\n",
       "1.0    0.163303\n",
       "Name: TARGET, dtype: float64"
      ]
     },
     "metadata": {},
     "output_type": "display_data"
    },
    {
     "name": "stdout",
     "output_type": "stream",
     "text": [
      "../data/results/logit.csv\n"
     ]
    },
    {
     "data": {
      "text/plain": [
       "0.0    0.873546\n",
       "1.0    0.126454\n",
       "Name: TARGET, dtype: float64"
      ]
     },
     "metadata": {},
     "output_type": "display_data"
    },
    {
     "name": "stdout",
     "output_type": "stream",
     "text": [
      "../data/results/submission_2023-11-12_11:56:50.csv\n"
     ]
    },
    {
     "data": {
      "text/plain": [
       "1    0.811134\n",
       "0    0.188866\n",
       "Name: TARGET, dtype: float64"
      ]
     },
     "metadata": {},
     "output_type": "display_data"
    },
    {
     "name": "stdout",
     "output_type": "stream",
     "text": [
      "../data/results/submission_2023-11-12_12:13:57.csv\n"
     ]
    },
    {
     "data": {
      "text/plain": [
       "1    0.809439\n",
       "0    0.190561\n",
       "Name: TARGET, dtype: float64"
      ]
     },
     "metadata": {},
     "output_type": "display_data"
    },
    {
     "name": "stdout",
     "output_type": "stream",
     "text": [
      "../data/results/submission_2023-11-12_12:35:32.csv\n"
     ]
    },
    {
     "data": {
      "text/plain": [
       "1    0.809439\n",
       "0    0.190561\n",
       "Name: TARGET, dtype: float64"
      ]
     },
     "metadata": {},
     "output_type": "display_data"
    },
    {
     "name": "stdout",
     "output_type": "stream",
     "text": [
      "../data/results/submission_2023-11-12_12:52:09.csv\n"
     ]
    },
    {
     "data": {
      "text/plain": [
       "1    0.69177\n",
       "0    0.30823\n",
       "Name: TARGET, dtype: float64"
      ]
     },
     "metadata": {},
     "output_type": "display_data"
    },
    {
     "name": "stdout",
     "output_type": "stream",
     "text": [
      "../data/results/submission_2023-11-12_13:07:24.csv\n"
     ]
    },
    {
     "data": {
      "text/plain": [
       "0    0.559937\n",
       "1    0.440063\n",
       "Name: TARGET, dtype: float64"
      ]
     },
     "metadata": {},
     "output_type": "display_data"
    },
    {
     "name": "stdout",
     "output_type": "stream",
     "text": [
      "../data/results/submission_2023-11-12_14:00:47.csv\n"
     ]
    },
    {
     "data": {
      "text/plain": [
       "0    1.0\n",
       "Name: TARGET, dtype: float64"
      ]
     },
     "metadata": {},
     "output_type": "display_data"
    },
    {
     "name": "stdout",
     "output_type": "stream",
     "text": [
      "../data/results/submission_2023-11-12_15:58:49.csv\n"
     ]
    },
    {
     "data": {
      "text/plain": [
       "0    0.928951\n",
       "1    0.071049\n",
       "Name: TARGET, dtype: float64"
      ]
     },
     "metadata": {},
     "output_type": "display_data"
    },
    {
     "name": "stdout",
     "output_type": "stream",
     "text": [
      "../data/results/submission_2023-11-12_16:03:58.csv\n"
     ]
    },
    {
     "data": {
      "text/plain": [
       "0    0.913553\n",
       "1    0.086447\n",
       "Name: TARGET, dtype: float64"
      ]
     },
     "metadata": {},
     "output_type": "display_data"
    },
    {
     "name": "stdout",
     "output_type": "stream",
     "text": [
      "../data/results/submission_2023-11-12_16:09:29.csv\n"
     ]
    },
    {
     "data": {
      "text/plain": [
       "1    0.554804\n",
       "0    0.445196\n",
       "Name: TARGET, dtype: float64"
      ]
     },
     "metadata": {},
     "output_type": "display_data"
    },
    {
     "name": "stdout",
     "output_type": "stream",
     "text": [
      "../data/results/submission_2023-11-12_16:17:33.csv\n"
     ]
    },
    {
     "data": {
      "text/plain": [
       "1    0.64158\n",
       "0    0.35842\n",
       "Name: TARGET, dtype: float64"
      ]
     },
     "metadata": {},
     "output_type": "display_data"
    },
    {
     "name": "stdout",
     "output_type": "stream",
     "text": [
      "../data/results/submission_2023-11-12_16:47:14.csv\n"
     ]
    },
    {
     "data": {
      "text/plain": [
       "1    0.524124\n",
       "0    0.475876\n",
       "Name: TARGET, dtype: float64"
      ]
     },
     "metadata": {},
     "output_type": "display_data"
    },
    {
     "name": "stdout",
     "output_type": "stream",
     "text": [
      "../data/results/submission_2023-11-12_23:22:26.csv\n"
     ]
    },
    {
     "data": {
      "text/plain": [
       "1    0.668871\n",
       "0    0.331129\n",
       "Name: TARGET, dtype: float64"
      ]
     },
     "metadata": {},
     "output_type": "display_data"
    },
    {
     "name": "stdout",
     "output_type": "stream",
     "text": [
      "../data/results/submission_2023-11-12_23:25:54.csv\n"
     ]
    },
    {
     "data": {
      "text/plain": [
       "1    0.668871\n",
       "0    0.331129\n",
       "Name: TARGET, dtype: float64"
      ]
     },
     "metadata": {},
     "output_type": "display_data"
    },
    {
     "name": "stdout",
     "output_type": "stream",
     "text": [
      "../data/results/submission_2023-11-13_05_01_20.csv\n"
     ]
    },
    {
     "data": {
      "text/plain": [
       "0    0.563029\n",
       "1    0.436971\n",
       "Name: TARGET, dtype: float64"
      ]
     },
     "metadata": {},
     "output_type": "display_data"
    },
    {
     "name": "stdout",
     "output_type": "stream",
     "text": [
      "../data/results/submission_2023-11-13_20:26:53.csv\n"
     ]
    },
    {
     "data": {
      "text/plain": [
       "0    0.942769\n",
       "1    0.057231\n",
       "Name: TARGET, dtype: float64"
      ]
     },
     "metadata": {},
     "output_type": "display_data"
    },
    {
     "name": "stdout",
     "output_type": "stream",
     "text": [
      "../data/results/submission_2023-11-13_20:30:27.csv\n"
     ]
    },
    {
     "data": {
      "text/plain": [
       "0    0.912353\n",
       "1    0.087647\n",
       "Name: TARGET, dtype: float64"
      ]
     },
     "metadata": {},
     "output_type": "display_data"
    },
    {
     "name": "stdout",
     "output_type": "stream",
     "text": [
      "../data/results/submission_2023-11-13_20:40:40.csv\n"
     ]
    },
    {
     "data": {
      "text/plain": [
       "0    0.843886\n",
       "1    0.156114\n",
       "Name: TARGET, dtype: float64"
      ]
     },
     "metadata": {},
     "output_type": "display_data"
    },
    {
     "name": "stdout",
     "output_type": "stream",
     "text": [
      "../data/results/submission_2023-11-13_20:46:18.csv\n"
     ]
    },
    {
     "data": {
      "text/plain": [
       "0    0.841336\n",
       "1    0.158664\n",
       "Name: TARGET, dtype: float64"
      ]
     },
     "metadata": {},
     "output_type": "display_data"
    },
    {
     "name": "stdout",
     "output_type": "stream",
     "text": [
      "../data/results/submission_2023-11-13_20:52:01.csv\n"
     ]
    },
    {
     "data": {
      "text/plain": [
       "0    0.839494\n",
       "1    0.160506\n",
       "Name: TARGET, dtype: float64"
      ]
     },
     "metadata": {},
     "output_type": "display_data"
    },
    {
     "name": "stdout",
     "output_type": "stream",
     "text": [
      "../data/results/submission_2023-11-13_20:57:51.csv\n"
     ]
    },
    {
     "data": {
      "text/plain": [
       "0    0.841468\n",
       "1    0.158532\n",
       "Name: TARGET, dtype: float64"
      ]
     },
     "metadata": {},
     "output_type": "display_data"
    },
    {
     "name": "stdout",
     "output_type": "stream",
     "text": [
      "../data/results/submission_2023-11-13_21:02:15.csv\n"
     ]
    },
    {
     "data": {
      "text/plain": [
       "0    0.841369\n",
       "1    0.158631\n",
       "Name: TARGET, dtype: float64"
      ]
     },
     "metadata": {},
     "output_type": "display_data"
    },
    {
     "name": "stdout",
     "output_type": "stream",
     "text": [
      "../data/results/submission_2023-11-13_21:05:52.csv\n"
     ]
    },
    {
     "data": {
      "text/plain": [
       "0    0.842883\n",
       "1    0.157117\n",
       "Name: TARGET, dtype: float64"
      ]
     },
     "metadata": {},
     "output_type": "display_data"
    },
    {
     "name": "stdout",
     "output_type": "stream",
     "text": [
      "../data/results/submission_2023-11-13_21:18:05.csv\n"
     ]
    },
    {
     "data": {
      "text/plain": [
       "0    0.839461\n",
       "1    0.160539\n",
       "Name: TARGET, dtype: float64"
      ]
     },
     "metadata": {},
     "output_type": "display_data"
    },
    {
     "name": "stdout",
     "output_type": "stream",
     "text": [
      "../data/results/submission_2023-11-13_21:53:50.csv\n"
     ]
    },
    {
     "data": {
      "text/plain": [
       "0    0.837092\n",
       "1    0.162908\n",
       "Name: TARGET, dtype: float64"
      ]
     },
     "metadata": {},
     "output_type": "display_data"
    },
    {
     "name": "stdout",
     "output_type": "stream",
     "text": [
      "../data/results/submission_2023-11-14_01:26:58.csv\n"
     ]
    },
    {
     "data": {
      "text/plain": [
       "0    0.842389\n",
       "1    0.157611\n",
       "Name: TARGET, dtype: float64"
      ]
     },
     "metadata": {},
     "output_type": "display_data"
    },
    {
     "name": "stdout",
     "output_type": "stream",
     "text": [
      "../data/results/submission_2023-11-14_01:40:48.csv\n"
     ]
    },
    {
     "data": {
      "text/plain": [
       "0    0.838162\n",
       "1    0.161838\n",
       "Name: TARGET, dtype: float64"
      ]
     },
     "metadata": {},
     "output_type": "display_data"
    },
    {
     "name": "stdout",
     "output_type": "stream",
     "text": [
      "../data/results/submission_2023-11-14_01:51:51.csv\n"
     ]
    },
    {
     "data": {
      "text/plain": [
       "0    0.934116\n",
       "1    0.065884\n",
       "Name: TARGET, dtype: float64"
      ]
     },
     "metadata": {},
     "output_type": "display_data"
    }
   ],
   "source": [
    "import os\n",
    "import glob\n",
    "import pandas as pd\n",
    "\n",
    "for file in sorted(glob.glob(\"../data/results/*\")):\n",
    "    print(file)\n",
    "    sub = pd.read_csv(file)\n",
    "    display(sub['TARGET'].value_counts(normalize=True))"
   ]
  }
 ],
 "metadata": {
  "kernelspec": {
   "display_name": "Python 3",
   "language": "python",
   "name": "python3"
  },
  "language_info": {
   "codemirror_mode": {
    "name": "ipython",
    "version": 3
   },
   "file_extension": ".py",
   "mimetype": "text/x-python",
   "name": "python",
   "nbconvert_exporter": "python",
   "pygments_lexer": "ipython3",
   "version": "3.10.12"
  }
 },
 "nbformat": 4,
 "nbformat_minor": 2
}
