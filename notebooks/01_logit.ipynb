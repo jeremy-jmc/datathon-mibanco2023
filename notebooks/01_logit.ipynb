{
 "cells": [
  {
   "cell_type": "code",
   "execution_count": 172,
   "metadata": {},
   "outputs": [],
   "source": [
    "import pandas as pd\n",
    "import datetime\n",
    "import warnings\n",
    "import os\n",
    "import statsmodels.formula.api as smf\n",
    "import numpy as np\n",
    "import seaborn as sns\n",
    "\n",
    "# https://www.andrewvillazon.com/logistic-regression-python-statsmodels/#examining-fit-results\n",
    "\n",
    "warnings.filterwarnings('ignore')\n",
    "pd.set_option('display.max_columns', None)\n",
    "pd.set_option('display.max_rows', 100)\n",
    "pd.set_option('float_format', '{:f}'.format)"
   ]
  },
  {
   "cell_type": "code",
   "execution_count": 173,
   "metadata": {},
   "outputs": [
    {
     "data": {
      "text/plain": [
       "['ID',\n",
       " 'TARGET',\n",
       " 'CO_TIPO_SEXO',\n",
       " 'EDAD',\n",
       " 'NO_DEPARTAMENTO',\n",
       " 'ANIO_BANCARIZACION',\n",
       " 'MES_BANCARIZACION',\n",
       " 'CANT_EMP_NEG_max',\n",
       " 'CANT_EMP_NEG_last',\n",
       " 'CANT_EMP_NEG_min',\n",
       " 'CANT_EMP_CONS_max',\n",
       " 'CANT_EMP_CONS_last',\n",
       " 'CANT_EMP_CONS_min',\n",
       " 'CANT_EMP_HIPOT_max',\n",
       " 'CANT_EMP_HIPOT_last',\n",
       " 'CANT_EMP_HIPOT_min',\n",
       " 'SALDO_MED_EMP_mean',\n",
       " 'SALDO_MED_EMP_median',\n",
       " 'SALDO_MED_EMP_last',\n",
       " 'SALDO_MED_EMP_min',\n",
       " 'SALDO_MED_EMP_max',\n",
       " 'SALDO_MED_EMP_first',\n",
       " 'SALDO_PEQ_EMP_mean',\n",
       " 'SALDO_PEQ_EMP_median',\n",
       " 'SALDO_PEQ_EMP_last',\n",
       " 'SALDO_PEQ_EMP_min',\n",
       " 'SALDO_PEQ_EMP_max',\n",
       " 'SALDO_PEQ_EMP_first',\n",
       " 'SALDO_MIC_EMP_mean',\n",
       " 'SALDO_MIC_EMP_median',\n",
       " 'SALDO_MIC_EMP_last',\n",
       " 'SALDO_MIC_EMP_min',\n",
       " 'SALDO_MIC_EMP_max',\n",
       " 'SALDO_MIC_EMP_first',\n",
       " 'SALDO_CONS_REV_mean',\n",
       " 'SALDO_CONS_REV_median',\n",
       " 'SALDO_CONS_REV_last',\n",
       " 'SALDO_CONS_REV_min',\n",
       " 'SALDO_CONS_REV_max',\n",
       " 'SALDO_CONS_REV_first',\n",
       " 'SALDO_CONS_NO_REV_mean',\n",
       " 'SALDO_CONS_NO_REV_median',\n",
       " 'SALDO_CONS_NO_REV_last',\n",
       " 'SALDO_CONS_NO_REV_min',\n",
       " 'SALDO_CONS_NO_REV_max',\n",
       " 'SALDO_CONS_NO_REV_first',\n",
       " 'SALDO_HIPOT_mean',\n",
       " 'SALDO_HIPOT_median',\n",
       " 'SALDO_HIPOT_last',\n",
       " 'SALDO_HIPOT_min',\n",
       " 'SALDO_HIPOT_max',\n",
       " 'SALDO_HIPOT_first',\n",
       " 'SALDO_VENCIDO_mean',\n",
       " 'SALDO_VENCIDO_median',\n",
       " 'SALDO_VENCIDO_last',\n",
       " 'SALDO_VENCIDO_min',\n",
       " 'SALDO_VENCIDO_max',\n",
       " 'SALDO_VENCIDO_first',\n",
       " 'CANT_EMP_DOL_NEG_mean',\n",
       " 'CANT_EMP_DOL_NEG_median',\n",
       " 'CANT_EMP_DOL_NEG_last',\n",
       " 'CANT_EMP_DOL_NEG_min',\n",
       " 'CANT_EMP_DOL_NEG_max',\n",
       " 'CANT_EMP_DOL_NEG_first',\n",
       " 'SALDO_DOLA_NEG_mean',\n",
       " 'SALDO_DOLA_NEG_median',\n",
       " 'SALDO_DOLA_NEG_last',\n",
       " 'SALDO_DOLA_NEG_min',\n",
       " 'SALDO_DOLA_NEG_max',\n",
       " 'SALDO_DOLA_NEG_first',\n",
       " 'CANT_EMP_DOL_CONS_mean',\n",
       " 'CANT_EMP_DOL_CONS_median',\n",
       " 'CANT_EMP_DOL_CONS_last',\n",
       " 'CANT_EMP_DOL_CONS_min',\n",
       " 'CANT_EMP_DOL_CONS_max',\n",
       " 'CANT_EMP_DOL_CONS_first',\n",
       " 'SALDO_DOLA_CONS_mean',\n",
       " 'SALDO_DOLA_CONS_median',\n",
       " 'SALDO_DOLA_CONS_last',\n",
       " 'SALDO_DOLA_CONS_min',\n",
       " 'SALDO_DOLA_CONS_max',\n",
       " 'SALDO_DOLA_CONS_first',\n",
       " 'CANT_EMP_DOL_HIPOT_mean',\n",
       " 'CANT_EMP_DOL_HIPOT_median',\n",
       " 'CANT_EMP_DOL_HIPOT_last',\n",
       " 'CANT_EMP_DOL_HIPOT_min',\n",
       " 'CANT_EMP_DOL_HIPOT_max',\n",
       " 'CANT_EMP_DOL_HIPOT_first',\n",
       " 'SALDO_DOLA_HIPOT_mean',\n",
       " 'SALDO_DOLA_HIPOT_median',\n",
       " 'SALDO_DOLA_HIPOT_last',\n",
       " 'SALDO_DOLA_HIPOT_min',\n",
       " 'SALDO_DOLA_HIPOT_max',\n",
       " 'SALDO_DOLA_HIPOT_first',\n",
       " 'MAX_LINEA_DISP_U6M_mean',\n",
       " 'MAX_LINEA_DISP_U6M_median',\n",
       " 'MAX_LINEA_DISP_U6M_last',\n",
       " 'MAX_LINEA_DISP_U6M_min',\n",
       " 'MAX_LINEA_DISP_U6M_max',\n",
       " 'MAX_LINEA_DISP_U6M_first',\n",
       " 'SALDO_EMP_TOTAL_mean',\n",
       " 'SALDO_EMP_TOTAL_last',\n",
       " 'SALDO_EMP_TOTAL_max',\n",
       " 'SALDO_EMP_TOTAL_min',\n",
       " 'SALDO_EMP_TOTAL_median',\n",
       " 'VAR_SALDO_EMP_TOTAL_1_mean',\n",
       " 'VAR_SALDO_EMP_TOTAL_1_median',\n",
       " 'VAR_SALDO_EMP_TOTAL_MA3_mean',\n",
       " 'VAR_SALDO_EMP_TOTAL_MA3_median',\n",
       " 'VAR_SALDO_EMP_TOTAL_MA8_mean',\n",
       " 'VAR_SALDO_EMP_TOTAL_MA8_median',\n",
       " 'VAR_SALDO_EMP_TOTAL-VENCIDO_1_mean',\n",
       " 'VAR_SALDO_EMP_TOTAL-VENCIDO_1_median',\n",
       " 'VAR_SALDO_EMP_TOTAL-VENCIDO_MA3_mean',\n",
       " 'VAR_SALDO_EMP_TOTAL-VENCIDO_MA3_median',\n",
       " 'VAR_SALDO_EMP_TOTAL-VENCIDO_MA8_mean',\n",
       " 'VAR_SALDO_EMP_TOTAL-VENCIDO_MA8_median',\n",
       " 'DIFF_SALDO_EMP_TOTAL_1_mean',\n",
       " 'DIFF_SALDO_EMP_TOTAL_1_median',\n",
       " 'DIFF_SALDO_EMP_TOTAL_MA3_mean',\n",
       " 'DIFF_SALDO_EMP_TOTAL_MA3_median',\n",
       " 'DIFF_SALDO_EMP_TOTAL_MA8_mean',\n",
       " 'DIFF_SALDO_EMP_TOTAL_MA8_median',\n",
       " 'DIFF_SALDO_EMP_TOTAL-VENCIDO_1_mean',\n",
       " 'DIFF_SALDO_EMP_TOTAL-VENCIDO_1_median',\n",
       " 'DIFF_SALDO_EMP_TOTAL-VENCIDO_MA3_mean',\n",
       " 'DIFF_SALDO_EMP_TOTAL-VENCIDO_MA3_median',\n",
       " 'DIFF_SALDO_EMP_TOTAL-VENCIDO_MA8_mean',\n",
       " 'DIFF_SALDO_EMP_TOTAL-VENCIDO_MA8_median',\n",
       " 'VAR_SALDO_REV_NO_REV-VENCIDO_1_mean',\n",
       " 'VAR_SALDO_REV_NO_REV-VENCIDO_1_median',\n",
       " 'VAR_SALDO_REV_NO_REV-VENCIDO_MA3_mean',\n",
       " 'VAR_SALDO_REV_NO_REV-VENCIDO_MA3_median',\n",
       " 'VAR_SALDO_REV_NO_REV-VENCIDO_MA8_mean',\n",
       " 'VAR_SALDO_REV_NO_REV-VENCIDO_MA8_median',\n",
       " 'VAR_SALDO_TOTAL-VENCIDO_1_mean',\n",
       " 'VAR_SALDO_TOTAL-VENCIDO_1_median',\n",
       " 'VAR_SALDO_TOTAL-VENCIDO_MA3_mean',\n",
       " 'VAR_SALDO_TOTAL-VENCIDO_MA3_median',\n",
       " 'VAR_SALDO_TOTAL-VENCIDO_MA8_mean',\n",
       " 'VAR_SALDO_TOTAL-VENCIDO_MA8_median']"
      ]
     },
     "execution_count": 173,
     "metadata": {},
     "output_type": "execute_result"
    }
   ],
   "source": [
    "data_train = pd.read_parquet('../data/processed/train.gzip')\n",
    "data_sub = pd.read_parquet('../data/processed/test.gzip')\n",
    "\n",
    "list(data_train.columns)"
   ]
  },
  {
   "cell_type": "code",
   "execution_count": 174,
   "metadata": {},
   "outputs": [],
   "source": [
    "data_sub_id = data_sub[['ID']]\n",
    "\n",
    "categorical_feats = ['CO_TIPO_SEXO', 'NO_DEPARTAMENTO', 'ANIO_BANCARIZACION', 'MES_BANCARIZACION']\n",
    "for col in categorical_feats:\n",
    "    data_train[col] = data_train[col].astype('category')\n",
    "    data_sub[col] = data_sub[col].astype('category')\n",
    "\n",
    "TARGET_VAR = 'TARGET'\n",
    "N_FOLDS = 5\n",
    "N_JOBS = os.cpu_count() // 2.5"
   ]
  },
  {
   "cell_type": "code",
   "execution_count": 175,
   "metadata": {},
   "outputs": [
    {
     "data": {
      "text/plain": [
       "['SALDO_DOLA_CONS_mean',\n",
       " 'MAX_LINEA_DISP_U6M_mean',\n",
       " 'SALDO_EMP_TOTAL_mean',\n",
       " 'TARGET']"
      ]
     },
     "execution_count": 175,
     "metadata": {},
     "output_type": "execute_result"
    }
   ],
   "source": [
    "exclude_substr_list = ['CANT_', '_max', 'VAR_', 'DIFF_', 'min', 'max', 'first', 'last', 'median', 'MED_EMP', 'PEQ_EMP', 'MIC_EMP', 'REV', 'HIPOT', 'VENCIDO', 'DOLA_NEG', 'EDAD']  # 'TOTAL', \n",
    "\n",
    "data_train =  data_train.select_dtypes(include=['int64', 'float64'])\n",
    "data_train =  data_train[[col for col in data_train.columns if all([sub not in col for sub in exclude_substr_list])]]\n",
    "\n",
    "data_sub = data_sub.select_dtypes(include=['int64', 'float64'])\n",
    "data_sub = data_sub[[col for col in data_sub.columns if all([sub not in col for sub in exclude_substr_list])]]\n",
    "\n",
    "from sklearn.model_selection import train_test_split\n",
    "X_train, X_test, y_train, y_test = train_test_split(data_train.drop(columns=[TARGET_VAR]), data_train[TARGET_VAR], test_size=0.3, random_state=42)\n",
    "\n",
    "df_train = pd.concat([X_train, y_train], axis=1)\n",
    "df_test = pd.concat([X_test, y_test], axis=1)\n",
    "\n",
    "# display(df_train)\n",
    "# display(df_test)\n",
    "list(df_train.columns)"
   ]
  },
  {
   "cell_type": "code",
   "execution_count": 176,
   "metadata": {},
   "outputs": [
    {
     "data": {
      "text/plain": [
       "['TARGET',\n",
       " 'SALDO_DOLA_CONS_mean',\n",
       " 'MAX_LINEA_DISP_U6M_mean',\n",
       " 'SALDO_EMP_TOTAL_mean']"
      ]
     },
     "execution_count": 176,
     "metadata": {},
     "output_type": "execute_result"
    }
   ],
   "source": [
    "list(data_train.columns)"
   ]
  },
  {
   "cell_type": "code",
   "execution_count": 177,
   "metadata": {},
   "outputs": [
    {
     "name": "stdout",
     "output_type": "stream",
     "text": [
      "Optimization terminated successfully.\n",
      "         Current function value: 0.383715\n",
      "         Iterations 9\n"
     ]
    },
    {
     "name": "stdout",
     "output_type": "stream",
     "text": [
      "                           Logit Regression Results                           \n",
      "==============================================================================\n",
      "Dep. Variable:                 TARGET   No. Observations:                63828\n",
      "Model:                          Logit   Df Residuals:                    63824\n",
      "Method:                           MLE   Df Model:                            3\n",
      "Date:                Fri, 17 Nov 2023   Pseudo R-squ.:                 0.09171\n",
      "Time:                        17:53:25   Log-Likelihood:                -24492.\n",
      "converged:                       True   LL-Null:                       -26965.\n",
      "Covariance Type:            nonrobust   LLR p-value:                     0.000\n",
      "===========================================================================================\n",
      "                              coef    std err          z      P>|z|      [0.025      0.975]\n",
      "-------------------------------------------------------------------------------------------\n",
      "Intercept                  -2.0971      0.014   -153.634      0.000      -2.124      -2.070\n",
      "SALDO_DOLA_CONS_mean     3.924e-05   1.62e-05      2.423      0.015     7.5e-06     7.1e-05\n",
      "MAX_LINEA_DISP_U6M_mean  2.039e-05   3.84e-07     53.088      0.000    1.96e-05    2.11e-05\n",
      "SALDO_EMP_TOTAL_mean     2.766e-06   1.83e-07     15.130      0.000    2.41e-06    3.12e-06\n",
      "===========================================================================================\n"
     ]
    }
   ],
   "source": [
    "independents = ' + '.join([col for col in data_train.columns if col != TARGET_VAR])\n",
    "\n",
    "log_reg = smf.logit(f\"TARGET ~ {independents}\", data=df_train).fit()\n",
    "\n",
    "print(log_reg.summary())"
   ]
  },
  {
   "cell_type": "code",
   "execution_count": 178,
   "metadata": {},
   "outputs": [
    {
     "name": "stdout",
     "output_type": "stream",
     "text": [
      "              precision    recall  f1-score   support\n",
      "\n",
      "           0       0.87      0.99      0.92     54263\n",
      "           1       0.67      0.13      0.21      9565\n",
      "\n",
      "    accuracy                           0.86     63828\n",
      "   macro avg       0.77      0.56      0.57     63828\n",
      "weighted avg       0.84      0.86      0.82     63828\n",
      "\n",
      "              precision    recall  f1-score   support\n",
      "\n",
      "           0       0.87      0.99      0.92     23242\n",
      "           1       0.65      0.13      0.22      4113\n",
      "\n",
      "    accuracy                           0.86     27355\n",
      "   macro avg       0.76      0.56      0.57     27355\n",
      "weighted avg       0.83      0.86      0.82     27355\n",
      "\n"
     ]
    }
   ],
   "source": [
    "# do classification report\n",
    "from sklearn.metrics import classification_report\n",
    "\n",
    "y_pred = log_reg.predict(df_train.drop(columns=[TARGET_VAR]))\n",
    "y_pred = (y_pred > 0.5).astype(int)\n",
    "print(classification_report(df_train[TARGET_VAR], y_pred))\n",
    "\n",
    "\n",
    "y_pred = log_reg.predict(df_test.drop(columns=[TARGET_VAR]))\n",
    "y_pred = (y_pred > 0.5).astype(int)\n",
    "print(classification_report(df_test[TARGET_VAR], y_pred))"
   ]
  },
  {
   "cell_type": "code",
   "execution_count": 179,
   "metadata": {},
   "outputs": [
    {
     "name": "stdout",
     "output_type": "stream",
     "text": [
      "['__class__', '__delattr__', '__dict__', '__dir__', '__doc__', '__eq__', '__format__', '__ge__', '__getattribute__', '__getstate__', '__gt__', '__hash__', '__init__', '__init_subclass__', '__le__', '__lt__', '__module__', '__ne__', '__new__', '__reduce__', '__reduce_ex__', '__repr__', '__setattr__', '__sizeof__', '__str__', '__subclasshook__', '__weakref__', '_cache', '_data_attr', '_data_in_cache', '_get_endog_name', '_get_robustcov_results', '_get_wald_nonlinear', '_transform_predict_exog', '_use_t', 'aic', 'bic', 'bse', 'conf_int', 'converged', 'cov_kwds', 'cov_params', 'cov_type', 'df_model', 'df_resid', 'f_test', 'fittedvalues', 'get_distribution', 'get_influence', 'get_margeff', 'get_prediction', 'im_ratio', 'info_criteria', 'initialize', 'k_constant', 'llf', 'llnull', 'llr', 'llr_pvalue', 'load', 'method', 'mle_retvals', 'mle_settings', 'model', 'nobs', 'normalized_cov_params', 'params', 'pred_table', 'predict', 'prsquared', 'pvalues', 'remove_data', 'resid_dev', 'resid_generalized', 'resid_pearson', 'resid_response', 'save', 'scale', 'score_test', 'set_null_options', 'summary', 'summary2', 't_test', 't_test_pairwise', 'tvalues', 'use_t', 'wald_test', 'wald_test_terms']\n"
     ]
    }
   ],
   "source": [
    "print(dir(log_reg))"
   ]
  },
  {
   "cell_type": "code",
   "execution_count": 180,
   "metadata": {},
   "outputs": [
    {
     "name": "stdout",
     "output_type": "stream",
     "text": [
      "                              OR  Lower CI  Upper CI\n",
      "Intercept               0.122815  0.119573  0.126145\n",
      "SALDO_DOLA_CONS_mean    1.000039  1.000007  1.000071\n",
      "MAX_LINEA_DISP_U6M_mean 1.000020  1.000020  1.000021\n",
      "SALDO_EMP_TOTAL_mean    1.000003  1.000002  1.000003\n"
     ]
    }
   ],
   "source": [
    "odds_ratios = pd.DataFrame(\n",
    "    {\n",
    "        \"OR\": log_reg.params,\n",
    "        \"Lower CI\": log_reg.conf_int()[0],\n",
    "        \"Upper CI\": log_reg.conf_int()[1],\n",
    "    }\n",
    ")\n",
    "odds_ratios = np.exp(odds_ratios)\n",
    "\n",
    "print(odds_ratios)"
   ]
  },
  {
   "cell_type": "code",
   "execution_count": 181,
   "metadata": {},
   "outputs": [
    {
     "name": "stdout",
     "output_type": "stream",
     "text": [
      "Intercept                 -2.097074\n",
      "SALDO_DOLA_CONS_mean       0.000039\n",
      "MAX_LINEA_DISP_U6M_mean    0.000020\n",
      "SALDO_EMP_TOTAL_mean       0.000003\n",
      "dtype: float64\n"
     ]
    }
   ],
   "source": [
    "print(log_reg.params)"
   ]
  }
 ],
 "metadata": {
  "kernelspec": {
   "display_name": "Python 3",
   "language": "python",
   "name": "python3"
  },
  "language_info": {
   "codemirror_mode": {
    "name": "ipython",
    "version": 3
   },
   "file_extension": ".py",
   "mimetype": "text/x-python",
   "name": "python",
   "nbconvert_exporter": "python",
   "pygments_lexer": "ipython3",
   "version": "3.10.12"
  }
 },
 "nbformat": 4,
 "nbformat_minor": 2
}
