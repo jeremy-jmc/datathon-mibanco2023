{
   "cells": [
      {
         "cell_type": "code",
         "execution_count": null,
         "metadata": {},
         "outputs": [],
         "source": [
            "import pandas as pd\n",
            "import numpy as np\n",
            "import missingno as msno\n",
            "import matplotlib.pyplot as plt\n",
            "import seaborn as sns\n",
            "import numpy as np\n",
            "import math\n",
            "\n",
            "pd.set_option('display.max_columns', None)\n",
            "pd.set_option('display.max_rows', 100)\n",
            "pd.set_option('float_format', '{:f}'.format)"
         ]
      },
      {
         "cell_type": "code",
         "execution_count": null,
         "metadata": {},
         "outputs": [],
         "source": [
            "def get_cols(df: pd.DataFrame) -> tuple:\n",
            "    numeric_columns = df.select_dtypes(include=np.number).columns.tolist()\n",
            "    categorical_columns = df.select_dtypes(exclude=np.number).columns.tolist()\n",
            "\n",
            "    return numeric_columns, categorical_columns"
         ]
      },
      {
         "cell_type": "markdown",
         "metadata": {},
         "source": [
            "# *balances*"
         ]
      },
      {
         "cell_type": "code",
         "execution_count": null,
         "metadata": {},
         "outputs": [],
         "source": [
            "df_balances = (\n",
            "    pd.read_csv('../data/raw/balances.csv')\n",
            "    [['PERIODO','ID','CANT_EMP_NEG','CANT_EMP_CONS','CANT_EMP_HIPOT','SALDO_MED_EMP','SALDO_PEQ_EMP','SALDO_MIC_EMP','SALDO_CONS_REV','SALDO_CONS_NO_REV','SALDO_HIPOT','SALDO_VENCIDO']]\n",
            ")\n",
            "\n",
            "\"\"\"\n",
            "PERIODO - Periodo de extracción de los datos\n",
            "ID - Identificador único\n",
            "\n",
            "CANT_EMP_NEG - Cantidad de empresas de negocio\n",
            "CANT_EMP_CONS - Cantidad de empresas de consumo\n",
            "CANT_EMP_HIPOT - Cantidad de empresas hipotecario\n",
            "    * last\n",
            "    * variable para ver si cerro o abrio empresas en los ultimos 9 meses\n",
            "\n",
            "SALDO_MED_EMP - Saldo en mediana empresa\n",
            "SALDO_PEQ_EMP - Saldo en pequeña empresa\n",
            "SALDO_MIC_EMP - Saldo en micro empresa\n",
            "    * categorica para saber que tipo de empresa tiene\n",
            "    * last\n",
            "    * variacion promedio de los saldos en los saldos que tiene\n",
            "\n",
            "SALDO_CONS_REV - Saldo Consumo revolvente\n",
            "SALDO_CONS_NO_REV - Saldo Consumo NO revolvente\n",
            "    \n",
            "SALDO_HIPOT - Saldo en hipotecario\n",
            "SALDO_VENCIDO - Saldo vencido\n",
            "\n",
            "CANT_EMP_DOL_NEG - Cantidad de empresas de negocios en dólares\n",
            "SALDO_DOLA_NEG - Saldo en dólares de negocio\n",
            "CANT_EMP_DOL_CONS - Cantidad de empresas de consumo en dólares\n",
            "SALDO_DOLA_CONS - Saldo en dólares de consumo\n",
            "CANT_EMP_DOL_HIPOT - Cantidad de empresas de hipotecario en dólares\n",
            "SALDO_DOLA_HIPOT - Saldo en dólares de hipotecario\n",
            "MAX_LINEA_DISP_U6M - Línea Máxima disponible en los últimos 6 meses\n",
            "\"\"\"\n"
         ]
      },
      {
         "cell_type": "code",
         "execution_count": null,
         "metadata": {},
         "outputs": [],
         "source": [
            "df_balances['SALDO_EMP_TOTAL'] = df_balances['SALDO_MED_EMP'] + df_balances['SALDO_PEQ_EMP'] + df_balances['SALDO_MIC_EMP'] + df_balances['SALDO_HIPOT'] + df_balances['SALDO_CONS_REV'] + df_balances['SALDO_CONS_NO_REV']\n",
            "\n",
            "df_balances['SALDO_EMP_TOTAL-VENCIDO'] = df_balances['SALDO_EMP_TOTAL'] - df_balances['SALDO_VENCIDO']\n",
            "df_balances['SALDO_REV_NO_REV-VENCIDO'] = df_balances['SALDO_CONS_REV'] + df_balances['SALDO_CONS_NO_REV'] - df_balances['SALDO_VENCIDO']\n",
            "df_balances['SALDO_TOTAL-VENCIDO'] = df_balances['SALDO_EMP_TOTAL'] + df_balances['SALDO_CONS_REV'] + df_balances['SALDO_CONS_NO_REV'] - df_balances['SALDO_VENCIDO']"
         ]
      },
      {
         "cell_type": "code",
         "execution_count": null,
         "metadata": {},
         "outputs": [],
         "source": [
            "df_balances['TIENE_SALDO_VENCIDO'] = 0\n",
            "indexes_SALDO_VENCIDO = df_balances[df_balances['SALDO_VENCIDO'] > 0].index\n",
            "df_balances.loc[indexes_SALDO_VENCIDO, 'TIENE_SALDO_VENCIDO'] = 1\n",
            "df_balances['CANT_MESES_SALDO_VENCIDO'] = df_balances.groupby('ID')['TIENE_SALDO_VENCIDO'].transform('sum')\n",
            "df_balances = df_balances.drop(columns=['TIENE_SALDO_VENCIDO'])"
         ]
      },
      {
         "cell_type": "code",
         "execution_count": null,
         "metadata": {},
         "outputs": [],
         "source": [
            "df_balances.head(9*4)"
         ]
      },
      {
         "cell_type": "code",
         "execution_count": null,
         "metadata": {},
         "outputs": [],
         "source": [
            "# 'SALDO_EMP_TOTAL', 'SALDO_PEQ_EMP', 'SALDO_MED_EMP', 'SALDO_MIC_EMP', 'SALDO_CONS_REV', 'SALDO_CONS_NO_REV', 'SALDO_HIPOT', 'SALDO_VENCIDO'\n",
            "\n",
            "for col in ['SALDO_EMP_TOTAL', 'SALDO_EMP_TOTAL-VENCIDO', 'SALDO_REV_NO_REV-VENCIDO', 'SALDO_TOTAL-VENCIDO']:\n",
            "    print(col)\n",
            "    df_balances[f'VAR_{col}_MA8'] = df_balances.groupby('ID')[f'{col}'].transform(lambda x: x.diff().rolling(window=8).mean())\n",
            "    \n",
            "df_balances.head(9*4)"
         ]
      },
      {
         "cell_type": "code",
         "execution_count": null,
         "metadata": {},
         "outputs": [],
         "source": [
            "df_balances.to_parquet('../data/processed/balances_v2.gzip', compression='gzip')"
         ]
      },
      {
         "cell_type": "code",
         "execution_count": null,
         "metadata": {},
         "outputs": [],
         "source": [
            "df_balances.head(50)"
         ]
      },
      {
         "cell_type": "code",
         "execution_count": null,
         "metadata": {},
         "outputs": [],
         "source": [
            "df_balances.describe()"
         ]
      },
      {
         "cell_type": "code",
         "execution_count": null,
         "metadata": {},
         "outputs": [],
         "source": [
            "df_balances.dtypes"
         ]
      },
      {
         "cell_type": "code",
         "execution_count": null,
         "metadata": {},
         "outputs": [],
         "source": [
            "df_balances.isnull().sum() / len(df_balances)"
         ]
      },
      {
         "cell_type": "code",
         "execution_count": null,
         "metadata": {},
         "outputs": [],
         "source": [
            "df_aux = df_balances.copy().replace(0, np.nan)\n",
            "msno.matrix(df_aux, figsize=(10, 5))"
         ]
      },
      {
         "cell_type": "code",
         "execution_count": null,
         "metadata": {},
         "outputs": [],
         "source": [
            "df_balances = pd.read_parquet('../data/processed/balances.gzip')\n",
            "df_balances.head(9*3)"
         ]
      },
      {
         "cell_type": "code",
         "execution_count": null,
         "metadata": {},
         "outputs": [],
         "source": [
            "df_balances.columns"
         ]
      },
      {
         "cell_type": "code",
         "execution_count": null,
         "metadata": {},
         "outputs": [],
         "source": [
            "df_balances_unirow = df_balances.groupby('ID').agg(\n",
            "    {\n",
            "        'CANT_EMP_NEG': ['max', 'last'],\n",
            "        'CANT_EMP_CONS': ['max', 'last'],\n",
            "        'CANT_EMP_HIPOT': ['max', 'last'],\n",
            "        'CANT_MESES_SALDO_VENCIDO': ['max'],\n",
            "        'SALDO_MED_EMP': ['mean'],\n",
            "        'SALDO_PEQ_EMP': ['mean'],\n",
            "        'SALDO_MIC_EMP': ['mean'],\n",
            "        'SALDO_CONS_REV': ['mean'],\n",
            "        'SALDO_CONS_NO_REV': ['mean'],\n",
            "        'SALDO_HIPOT': ['mean'],\n",
            "        'SALDO_VENCIDO': ['mean'],\n",
            "\n",
            "        'SALDO_EMP_TOTAL': ['mean'],\n",
            "        \n",
            "        'VAR_SALDO_EMP_TOTAL_MA8' : ['mean'], \n",
            "        'VAR_SALDO_EMP_TOTAL-VENCIDO_MA8' : ['mean'],\n",
            "        'VAR_SALDO_REV_NO_REV-VENCIDO_MA8' : ['mean'],\n",
            "        'VAR_SALDO_TOTAL-VENCIDO_MA8' : ['mean'],\n",
            "\n",
            "    }\n",
            ").replace([np.inf, -np.inf], np.nan).fillna(0)\n",
            "\n",
            "df_balances_unirow.columns = ['_'.join(col) for col in df_balances_unirow.columns.values]\n",
            "df_balances_unirow = df_balances_unirow.reset_index()\n",
            "\n",
            "df_balances_unirow"
         ]
      },
      {
         "cell_type": "code",
         "execution_count": null,
         "metadata": {},
         "outputs": [],
         "source": [
            "nc, cc = get_cols(df_balances_unirow)\n",
            "df_balances_unirow[nc].std(numeric_only=True).reset_index().sort_values(by=0, ascending=False)"
         ]
      },
      {
         "cell_type": "code",
         "execution_count": null,
         "metadata": {},
         "outputs": [],
         "source": [
            "import numpy as np\n",
            "\n",
            "corr_mat = df_balances_unirow[nc].corr(method='spearman')\n",
            "mask = np.tril(np.ones_like(corr_mat, dtype=bool))  # create a mask to hide the lower triangle of the heatmap\n",
            "plt.figure(figsize=(40, 40))\n",
            "sns.heatmap(corr_mat, annot=True, cmap='coolwarm', vmin=-1, vmax=1, square=True, fmt='.2f', mask=mask)  # add the mask to the heatmap\n",
            "plt.title('Imputed Correlation Matrix')\n",
            "plt.show()"
         ]
      },
      {
         "cell_type": "markdown",
         "metadata": {},
         "source": [
            "# *customers*"
         ]
      },
      {
         "cell_type": "code",
         "execution_count": null,
         "metadata": {},
         "outputs": [],
         "source": [
            "df_customers = (\n",
            "    pd.read_csv('../data/raw/customers.csv')\n",
            "    .assign(\n",
            "        PER_BANCARIZACION = lambda row: row['PER_BANCARIZACION'].astype(str)\n",
            "    )\n",
            "    .assign(\n",
            "        ANIO_BANCARIZACION = lambda row: row['PER_BANCARIZACION'].str[:4],\n",
            "        MES_BANCARIZACION = lambda row: row['PER_BANCARIZACION'].str[5:7]\n",
            "    )\n",
            "    .assign(\n",
            "        ANIO_BANCARIZACION = lambda row: row['ANIO_BANCARIZACION'].astype(int),\n",
            "        MES_BANCARIZACION = lambda row: row['MES_BANCARIZACION'].astype(int)\n",
            "    )\n",
            "    .drop(columns=['PER_BANCARIZACION'])\n",
            ")\n",
            "df_customers['CO_TIPO_SEXO'] = df_customers['CO_TIPO_SEXO'].astype('category')\n",
            "\n",
            "df_customers"
         ]
      },
      {
         "cell_type": "code",
         "execution_count": null,
         "metadata": {},
         "outputs": [],
         "source": [
            "df_customers.dtypes"
         ]
      },
      {
         "cell_type": "code",
         "execution_count": null,
         "metadata": {},
         "outputs": [],
         "source": [
            "df_customers['CO_TIPO_SEXO'].value_counts(normalize=True)"
         ]
      },
      {
         "cell_type": "code",
         "execution_count": null,
         "metadata": {},
         "outputs": [],
         "source": [
            "df_customers['NO_DEPARTAMENTO'].value_counts(normalize=True)\n",
            "# * IDEA: Agrupar por regiones"
         ]
      },
      {
         "cell_type": "code",
         "execution_count": null,
         "metadata": {},
         "outputs": [],
         "source": [
            "display(df_customers['DE_CIIU'].value_counts(normalize=True))"
         ]
      },
      {
         "cell_type": "code",
         "execution_count": null,
         "metadata": {},
         "outputs": [],
         "source": [
            "msno.matrix(df_customers, figsize=(10, 5))"
         ]
      },
      {
         "cell_type": "markdown",
         "metadata": {},
         "source": [
            "# *JOIN*"
         ]
      },
      {
         "cell_type": "code",
         "execution_count": null,
         "metadata": {},
         "outputs": [],
         "source": [
            "df_join = df_customers.drop(columns=['NO_DEPARTAMENTO', 'NO_PROVINCIA', 'DE_CIIU']).merge(\n",
            "    df_balances_unirow, how='left', on='ID'\n",
            ")"
         ]
      },
      {
         "cell_type": "code",
         "execution_count": null,
         "metadata": {},
         "outputs": [],
         "source": [
            "df_join['EDAD'].describe()"
         ]
      },
      {
         "cell_type": "code",
         "execution_count": null,
         "metadata": {},
         "outputs": [],
         "source": [
            "sns.kdeplot(df_join['EDAD'], shade=True)"
         ]
      },
      {
         "cell_type": "code",
         "execution_count": null,
         "metadata": {},
         "outputs": [],
         "source": [
            "# # fillna EDAD with KNN\n",
            "# from sklearn.impute import KNNImputer\n",
            "\n",
            "# imputer = KNNImputer(n_neighbors=5)\n",
            "# df_join['EDAD'] = imputer.fit_transform(df_join[['EDAD']])\n",
            "# sns.kdeplot(df_join['EDAD'], shade=True)"
         ]
      },
      {
         "cell_type": "code",
         "execution_count": null,
         "metadata": {},
         "outputs": [],
         "source": [
            "df_join.isna().sum()"
         ]
      },
      {
         "cell_type": "code",
         "execution_count": null,
         "metadata": {},
         "outputs": [],
         "source": [
            "nc, cc = get_cols(df_join)\n",
            "df_join[nc].std(numeric_only=True).reset_index().sort_values(by=0, ascending=False)"
         ]
      },
      {
         "cell_type": "code",
         "execution_count": null,
         "metadata": {},
         "outputs": [],
         "source": [
            "df_join.dtypes"
         ]
      },
      {
         "cell_type": "code",
         "execution_count": null,
         "metadata": {},
         "outputs": [],
         "source": [
            "df_train = pd.read_csv('../data/raw/train.csv').merge(df_join, how='left', on='ID')\n",
            "df_test = pd.read_csv('../data/raw/test.csv').merge(df_join, how='left', on='ID')"
         ]
      },
      {
         "cell_type": "code",
         "execution_count": null,
         "metadata": {},
         "outputs": [],
         "source": [
            "df_test.isna().sum()"
         ]
      },
      {
         "cell_type": "code",
         "execution_count": null,
         "metadata": {},
         "outputs": [],
         "source": [
            "df_train.isna().sum()"
         ]
      },
      {
         "cell_type": "code",
         "execution_count": null,
         "metadata": {},
         "outputs": [],
         "source": [
            "display(df_train['TARGET'].value_counts(normalize=True))\n",
            "display(df_test['TARGET'].value_counts(normalize=True))"
         ]
      },
      {
         "cell_type": "code",
         "execution_count": null,
         "metadata": {},
         "outputs": [],
         "source": [
            "df_train.to_parquet('../data/processed/train_v2.gzip', compression='gzip')\n",
            "df_test.to_parquet('../data/processed/test_v2.gzip', compression='gzip')"
         ]
      },
      {
         "cell_type": "code",
         "execution_count": null,
         "metadata": {},
         "outputs": [],
         "source": [
            "df_test.isna().sum()"
         ]
      },
      {
         "cell_type": "code",
         "execution_count": null,
         "metadata": {},
         "outputs": [],
         "source": [
            "df_train.isna().sum()"
         ]
      },
      {
         "cell_type": "code",
         "execution_count": null,
         "metadata": {},
         "outputs": [],
         "source": [
            "df_train['ID'].isin(df_balances['ID']).value_counts()"
         ]
      },
      {
         "cell_type": "code",
         "execution_count": null,
         "metadata": {},
         "outputs": [],
         "source": [
            "df_test['ID'].isin(df_balances['ID']).value_counts()"
         ]
      },
      {
         "cell_type": "code",
         "execution_count": null,
         "metadata": {},
         "outputs": [],
         "source": [
            "df_train['ID'].isin(df_customers['ID']).value_counts()"
         ]
      },
      {
         "cell_type": "code",
         "execution_count": null,
         "metadata": {},
         "outputs": [],
         "source": [
            "df_test['ID'].isin(df_customers['ID']).value_counts()"
         ]
      },
      {
         "cell_type": "code",
         "execution_count": null,
         "metadata": {},
         "outputs": [],
         "source": [
            "df_train.dtypes"
         ]
      }
   ],
   "metadata": {
      "kernelspec": {
         "display_name": "base",
         "language": "python",
         "name": "python3"
      },
      "language_info": {
         "codemirror_mode": {
            "name": "ipython",
            "version": 3
         },
         "file_extension": ".py",
         "mimetype": "text/x-python",
         "name": "python",
         "nbconvert_exporter": "python",
         "pygments_lexer": "ipython3",
         "version": "3.10.12"
      }
   },
   "nbformat": 4,
   "nbformat_minor": 2
}
