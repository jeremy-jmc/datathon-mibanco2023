{
  "cells": [
    {
      "cell_type": "markdown",
      "metadata": {},
      "source": [
        "Submittion with F1-Macro of 0.50507"
      ]
    },
    {
      "cell_type": "code",
      "execution_count": null,
      "metadata": {
        "colab": {
          "base_uri": "https://localhost:8080/",
          "height": 35
        },
        "id": "h5_3ef3Hq9fv",
        "outputId": "50c172e1-be21-41d7-a064-83fb52753d9c"
      },
      "outputs": [],
      "source": [
        "import pycaret\n",
        "from pycaret.classification import *\n",
        "\n",
        "pycaret.__version__"
      ]
    },
    {
      "cell_type": "code",
      "execution_count": null,
      "metadata": {
        "id": "iwX3VH-jq9f2"
      },
      "outputs": [],
      "source": [
        "import pandas as pd\n",
        "import datetime\n",
        "import warnings\n",
        "\n",
        "warnings.filterwarnings('ignore')\n",
        "pd.set_option('display.max_columns', None)\n",
        "pd.set_option('display.max_rows', 100)\n",
        "pd.set_option('float_format', '{:f}'.format)"
      ]
    },
    {
      "cell_type": "code",
      "execution_count": null,
      "metadata": {
        "id": "ItHDk9MYq9f4"
      },
      "outputs": [],
      "source": [
        "data_train = pd.read_parquet('train_v2.gzip')\n",
        "data_test = pd.read_parquet('test_v2.gzip')\n",
        "data_test_id = data_test[['ID']]\n",
        "\n",
        "for col in ['CO_TIPO_SEXO', 'ANIO_BANCARIZACION', 'MES_BANCARIZACION']:\n",
        "    data_train[col] = data_train[col].astype('category')\n",
        "    data_test[col] = data_test[col].astype('category')\n",
        "\n",
        "TARGET_VAR = 'TARGET'\n",
        "N_FOLDS = 5"
      ]
    },
    {
      "cell_type": "code",
      "execution_count": null,
      "metadata": {
        "colab": {
          "base_uri": "https://localhost:8080/"
        },
        "id": "jVy0sAOSq9f5",
        "outputId": "50e14389-2180-40f9-ff2b-f44f79ce25a0"
      },
      "outputs": [],
      "source": [
        "data_train.dtypes"
      ]
    },
    {
      "cell_type": "code",
      "execution_count": null,
      "metadata": {
        "colab": {
          "base_uri": "https://localhost:8080/"
        },
        "id": "Hq5TVVfiq9f7",
        "outputId": "b95fea41-d500-4ed2-c472-b9093c236aef"
      },
      "outputs": [],
      "source": [
        "# get only numeric columns\n",
        "categorical_feats = ['CO_TIPO_SEXO', 'ANIO_BANCARIZACION', 'MES_BANCARIZACION']\n",
        "data = data_train.select_dtypes(include=['int64', 'float64', 'category'])# pd.concat([data_train.select_dtypes(include=['int64', 'float64']), data_train['ID']], axis=1)\n",
        "#data = data.drop(columns=['EDAD'])\n",
        "exclude_substr_list = ['PROXY_', '_1', '_MA3', '_MA6', '_min', '_median', '_last']\n",
        "#data = data.drop(columns=['CANT_EMP_NEG_max'])\n",
        "data = data[[col for col in data.columns if all([sub not in col for sub in exclude_substr_list])]]\n",
        "\n",
        "data_test = data_test.select_dtypes(include=['int64', 'float64', 'category'])\n",
        "#data_test = data_test.drop(columns=['EDAD'])\n",
        "#data_test = data_test.drop(columns=['CANT_EMP_NEG_max'])\n",
        "data_test = data_test[[col for col in data_test.columns if all([sub not in col for sub in exclude_substr_list])]]\n",
        "\n",
        "print(data.columns)"
      ]
    },
    {
      "cell_type": "code",
      "execution_count": null,
      "metadata": {
        "id": "37YYlZKpq9f8"
      },
      "outputs": [],
      "source": [
        "# perform min max normalization in all columns\n",
        "from sklearn.preprocessing import MinMaxScaler\n",
        "scaler = MinMaxScaler()\n",
        "data_scaled = data.copy()\n",
        "\n",
        "data_scaled = pd.DataFrame(scaler.fit_transform(data), columns=data.columns)\n",
        "data_scaled[TARGET_VAR] = data_train[TARGET_VAR]"
      ]
    },
    {
      "cell_type": "code",
      "execution_count": null,
      "metadata": {
        "colab": {
          "base_uri": "https://localhost:8080/"
        },
        "id": "JsF7lZ-Gq9f-",
        "outputId": "a25aa8ed-1458-4c57-9457-08ecf4e4a09c"
      },
      "outputs": [],
      "source": [
        "data_scaled[TARGET_VAR].value_counts(normalize=True)"
      ]
    },
    {
      "cell_type": "code",
      "execution_count": null,
      "metadata": {
        "colab": {
          "base_uri": "https://localhost:8080/"
        },
        "id": "b1pHuDo2q9gA",
        "outputId": "80c54b6d-227b-41d4-ef67-a6b399a3f099"
      },
      "outputs": [],
      "source": [
        "data_scaled[TARGET_VAR].value_counts(normalize=True)"
      ]
    },
    {
      "cell_type": "code",
      "execution_count": null,
      "metadata": {
        "colab": {
          "base_uri": "https://localhost:8080/",
          "height": 1000
        },
        "id": "ChgKlcRLq9gC",
        "outputId": "aac71345-a419-458f-9b9d-b08c8d9a466d"
      },
      "outputs": [],
      "source": [
        "s = setup(data_scaled, target=TARGET_VAR, session_id=123, use_gpu=True, fold=N_FOLDS, categorical_features=categorical_feats)"
      ]
    },
    {
      "cell_type": "code",
      "execution_count": null,
      "metadata": {
        "id": "0Cv6rH0Hq9gE"
      },
      "outputs": [],
      "source": [
        "# add F1 macro to metrics\n",
        "from sklearn.metrics import f1_score, make_scorer\n",
        "\n",
        "try:\n",
        "    def f1_macro(y_true, y_pred):\n",
        "        return f1_score(y_true, y_pred, average='macro')\n",
        "\n",
        "    add_metric('f1_macro', 'F1 Macro', f1_macro, greater_is_better=True)\n",
        "except:\n",
        "    pass"
      ]
    },
    {
      "cell_type": "code",
      "execution_count": null,
      "metadata": {
        "colab": {
          "base_uri": "https://localhost:8080/",
          "height": 453
        },
        "id": "__azZWqjq9gF",
        "outputId": "6cce4bbb-aac1-41a8-fa09-cb85ed4ac4e3"
      },
      "outputs": [],
      "source": [
        "get_metrics()"
      ]
    },
    {
      "cell_type": "code",
      "execution_count": null,
      "metadata": {
        "colab": {
          "base_uri": "https://localhost:8080/",
          "height": 943
        },
        "id": "8lUlJUvdq9gG",
        "outputId": "8f4bbe76-57c3-420a-e331-cee74e57c634"
      },
      "outputs": [],
      "source": [
        "all_models = models()\n",
        "all_models"
      ]
    },
    {
      "cell_type": "code",
      "execution_count": null,
      "metadata": {
        "colab": {
          "base_uri": "https://localhost:8080/",
          "height": 238,
          "referenced_widgets": [
            "34b35e8edf3a4a969b66a4357d241492",
            "bdeed63e2c124c869f33657d48cc41f9",
            "87d9acae4d624d5981671c3c13f8fc46",
            "2285064a03b14a92bb671e50712cefcc",
            "f5d6a63e6ef54a959197c4da13ebeb57",
            "c000de304c804d61b9c262139ac0b0bd",
            "829ba9e5d62b4424870e491facc4948f",
            "97668d93954143af888a242542fdbd09",
            "4867d7e4c25e48f9a93a55771586a7ea",
            "455020905881445a9b791927982ea068",
            "946bf0b8ebb54241a46a6ba88037e351"
          ]
        },
        "id": "IOW94THUq9gH",
        "outputId": "172b6c66-8be1-4307-f88a-674e33abc114"
      },
      "outputs": [],
      "source": [
        "best = compare_models(sort='F1 Macro', exclude=['knn', 'svm', 'rbfsvm', 'dummy', 'lda', 'lr', 'nb', 'ridge', 'qda', 'gpc', 'et'], fold=N_FOLDS)"
      ]
    },
    {
      "cell_type": "code",
      "execution_count": null,
      "metadata": {
        "id": "M9nUpyOGq9gI"
      },
      "outputs": [],
      "source": [
        "# tuned_model = tune_model(best, optimize='F1 Macro')"
      ]
    },
    {
      "cell_type": "code",
      "execution_count": null,
      "metadata": {
        "colab": {
          "base_uri": "https://localhost:8080/",
          "height": 551
        },
        "id": "la2Zcek6q9gJ",
        "outputId": "86772b07-77b5-4caf-a6e8-dbf16b1a2f7f"
      },
      "outputs": [],
      "source": [
        "plot_model(best, plot='confusion_matrix')"
      ]
    },
    {
      "cell_type": "code",
      "execution_count": null,
      "metadata": {
        "id": "thpkd7T4q9gK"
      },
      "outputs": [],
      "source": [
        "# plot_model(best, plot='learning')"
      ]
    },
    {
      "cell_type": "code",
      "execution_count": null,
      "metadata": {
        "colab": {
          "base_uri": "https://localhost:8080/",
          "height": 524
        },
        "id": "mCDArkRPq9gK",
        "outputId": "758b4096-9065-4c57-d2d2-ac4b57d2bbe1"
      },
      "outputs": [],
      "source": [
        "plot_model(best, plot='auc')"
      ]
    },
    {
      "cell_type": "code",
      "execution_count": null,
      "metadata": {
        "colab": {
          "base_uri": "https://localhost:8080/",
          "height": 1000
        },
        "id": "ZP0Vxx2Vq9gL",
        "outputId": "f5a45678-115f-4c62-e164-afff3ef590f4"
      },
      "outputs": [],
      "source": [
        "try:\n",
        "    plot_model(best, plot='feature_all')\n",
        "except:\n",
        "    pass"
      ]
    },
    {
      "cell_type": "code",
      "execution_count": null,
      "metadata": {
        "colab": {
          "base_uri": "https://localhost:8080/",
          "height": 81
        },
        "id": "FSVykIkoq9gM",
        "outputId": "426e4e3c-52ee-4b91-d674-ba9542e6510b"
      },
      "outputs": [],
      "source": [
        "holdout_pred = predict_model(best)"
      ]
    },
    {
      "cell_type": "code",
      "execution_count": null,
      "metadata": {
        "colab": {
          "base_uri": "https://localhost:8080/",
          "height": 81
        },
        "id": "4rgfU1xNq9gN",
        "outputId": "446eb668-b52b-4447-c7cc-b806c2ff4a8c"
      },
      "outputs": [],
      "source": [
        "predictions_train = predict_model(best, data=data_scaled)"
      ]
    },
    {
      "cell_type": "code",
      "execution_count": null,
      "metadata": {
        "colab": {
          "base_uri": "https://localhost:8080/",
          "height": 268
        },
        "id": "_F7LnNDAq9gO",
        "outputId": "fa37525f-8568-420a-f481-d057901ea76c"
      },
      "outputs": [],
      "source": [
        "# confusion matrix and classification report\n",
        "from sklearn.metrics import confusion_matrix, classification_report\n",
        "\n",
        "cm = confusion_matrix(predictions_train[TARGET_VAR], predictions_train['prediction_label'], normalize='true')\n",
        "cm = pd.DataFrame(cm, columns=['0', '1'])\n",
        "cm.index = ['0', '1']\n",
        "display(cm)\n",
        "\n",
        "print(classification_report(predictions_train[TARGET_VAR], predictions_train['prediction_label']))"
      ]
    },
    {
      "cell_type": "code",
      "execution_count": null,
      "metadata": {
        "colab": {
          "base_uri": "https://localhost:8080/",
          "height": 17
        },
        "id": "0-e42Ytwq9gP",
        "outputId": "5bbba1c5-55f3-49a0-b6aa-ec5824cef0d0"
      },
      "outputs": [],
      "source": [
        "predictions = predict_model(best, data=data_test.drop(columns=[TARGET_VAR]))"
      ]
    },
    {
      "cell_type": "code",
      "execution_count": null,
      "metadata": {
        "colab": {
          "base_uri": "https://localhost:8080/"
        },
        "id": "9WXZgDQDq9gQ",
        "outputId": "32c13379-70f8-42de-e59b-fd75be94e46e"
      },
      "outputs": [],
      "source": [
        "predictions['prediction_label'].value_counts(normalize=True)"
      ]
    },
    {
      "cell_type": "code",
      "execution_count": null,
      "metadata": {
        "id": "BPd2jsWAq9gR"
      },
      "outputs": [],
      "source": [
        "now = datetime.datetime.now().strftime('%Y-%m-%d_%H:%M:%S')"
      ]
    },
    {
      "cell_type": "code",
      "execution_count": null,
      "metadata": {
        "id": "fooW7Kqcq9gR"
      },
      "outputs": [],
      "source": [
        "pd.concat([data_test_id, predictions[['prediction_label']]], axis=1).rename(columns={'prediction_label': TARGET_VAR}).to_csv(f'./submission_{now}.csv', index=False)  # , 'prediction_score'"
      ]
    }
  ],
  "metadata": {
    "accelerator": "GPU",
    "colab": {
      "gpuType": "T4",
      "provenance": []
    },
    "kernelspec": {
      "display_name": "Python 3",
      "name": "python3"
    },
    "language_info": {
      "codemirror_mode": {
        "name": "ipython",
        "version": 3
      },
      "file_extension": ".py",
      "mimetype": "text/x-python",
      "name": "python",
      "nbconvert_exporter": "python",
      "pygments_lexer": "ipython3",
      "version": "3.10.12"
    },
    "widgets": {
      "application/vnd.jupyter.widget-state+json": {
        "2285064a03b14a92bb671e50712cefcc": {
          "model_module": "@jupyter-widgets/controls",
          "model_module_version": "1.5.0",
          "model_name": "HTMLModel",
          "state": {
            "_dom_classes": [],
            "_model_module": "@jupyter-widgets/controls",
            "_model_module_version": "1.5.0",
            "_model_name": "HTMLModel",
            "_view_count": null,
            "_view_module": "@jupyter-widgets/controls",
            "_view_module_version": "1.5.0",
            "_view_name": "HTMLView",
            "description": "",
            "description_tooltip": null,
            "layout": "IPY_MODEL_455020905881445a9b791927982ea068",
            "placeholder": "​",
            "style": "IPY_MODEL_946bf0b8ebb54241a46a6ba88037e351",
            "value": " 21/21 [02:52&lt;00:00,  9.41s/it]"
          }
        },
        "34b35e8edf3a4a969b66a4357d241492": {
          "model_module": "@jupyter-widgets/controls",
          "model_module_version": "1.5.0",
          "model_name": "HBoxModel",
          "state": {
            "_dom_classes": [],
            "_model_module": "@jupyter-widgets/controls",
            "_model_module_version": "1.5.0",
            "_model_name": "HBoxModel",
            "_view_count": null,
            "_view_module": "@jupyter-widgets/controls",
            "_view_module_version": "1.5.0",
            "_view_name": "HBoxView",
            "box_style": "",
            "children": [
              "IPY_MODEL_bdeed63e2c124c869f33657d48cc41f9",
              "IPY_MODEL_87d9acae4d624d5981671c3c13f8fc46",
              "IPY_MODEL_2285064a03b14a92bb671e50712cefcc"
            ],
            "layout": "IPY_MODEL_f5d6a63e6ef54a959197c4da13ebeb57"
          }
        },
        "455020905881445a9b791927982ea068": {
          "model_module": "@jupyter-widgets/base",
          "model_module_version": "1.2.0",
          "model_name": "LayoutModel",
          "state": {
            "_model_module": "@jupyter-widgets/base",
            "_model_module_version": "1.2.0",
            "_model_name": "LayoutModel",
            "_view_count": null,
            "_view_module": "@jupyter-widgets/base",
            "_view_module_version": "1.2.0",
            "_view_name": "LayoutView",
            "align_content": null,
            "align_items": null,
            "align_self": null,
            "border": null,
            "bottom": null,
            "display": null,
            "flex": null,
            "flex_flow": null,
            "grid_area": null,
            "grid_auto_columns": null,
            "grid_auto_flow": null,
            "grid_auto_rows": null,
            "grid_column": null,
            "grid_gap": null,
            "grid_row": null,
            "grid_template_areas": null,
            "grid_template_columns": null,
            "grid_template_rows": null,
            "height": null,
            "justify_content": null,
            "justify_items": null,
            "left": null,
            "margin": null,
            "max_height": null,
            "max_width": null,
            "min_height": null,
            "min_width": null,
            "object_fit": null,
            "object_position": null,
            "order": null,
            "overflow": null,
            "overflow_x": null,
            "overflow_y": null,
            "padding": null,
            "right": null,
            "top": null,
            "visibility": null,
            "width": null
          }
        },
        "4867d7e4c25e48f9a93a55771586a7ea": {
          "model_module": "@jupyter-widgets/controls",
          "model_module_version": "1.5.0",
          "model_name": "ProgressStyleModel",
          "state": {
            "_model_module": "@jupyter-widgets/controls",
            "_model_module_version": "1.5.0",
            "_model_name": "ProgressStyleModel",
            "_view_count": null,
            "_view_module": "@jupyter-widgets/base",
            "_view_module_version": "1.2.0",
            "_view_name": "StyleView",
            "bar_color": null,
            "description_width": ""
          }
        },
        "829ba9e5d62b4424870e491facc4948f": {
          "model_module": "@jupyter-widgets/controls",
          "model_module_version": "1.5.0",
          "model_name": "DescriptionStyleModel",
          "state": {
            "_model_module": "@jupyter-widgets/controls",
            "_model_module_version": "1.5.0",
            "_model_name": "DescriptionStyleModel",
            "_view_count": null,
            "_view_module": "@jupyter-widgets/base",
            "_view_module_version": "1.2.0",
            "_view_name": "StyleView",
            "description_width": ""
          }
        },
        "87d9acae4d624d5981671c3c13f8fc46": {
          "model_module": "@jupyter-widgets/controls",
          "model_module_version": "1.5.0",
          "model_name": "FloatProgressModel",
          "state": {
            "_dom_classes": [],
            "_model_module": "@jupyter-widgets/controls",
            "_model_module_version": "1.5.0",
            "_model_name": "FloatProgressModel",
            "_view_count": null,
            "_view_module": "@jupyter-widgets/controls",
            "_view_module_version": "1.5.0",
            "_view_name": "ProgressView",
            "bar_style": "",
            "description": "",
            "description_tooltip": null,
            "layout": "IPY_MODEL_97668d93954143af888a242542fdbd09",
            "max": 21,
            "min": 0,
            "orientation": "horizontal",
            "style": "IPY_MODEL_4867d7e4c25e48f9a93a55771586a7ea",
            "value": 21
          }
        },
        "946bf0b8ebb54241a46a6ba88037e351": {
          "model_module": "@jupyter-widgets/controls",
          "model_module_version": "1.5.0",
          "model_name": "DescriptionStyleModel",
          "state": {
            "_model_module": "@jupyter-widgets/controls",
            "_model_module_version": "1.5.0",
            "_model_name": "DescriptionStyleModel",
            "_view_count": null,
            "_view_module": "@jupyter-widgets/base",
            "_view_module_version": "1.2.0",
            "_view_name": "StyleView",
            "description_width": ""
          }
        },
        "97668d93954143af888a242542fdbd09": {
          "model_module": "@jupyter-widgets/base",
          "model_module_version": "1.2.0",
          "model_name": "LayoutModel",
          "state": {
            "_model_module": "@jupyter-widgets/base",
            "_model_module_version": "1.2.0",
            "_model_name": "LayoutModel",
            "_view_count": null,
            "_view_module": "@jupyter-widgets/base",
            "_view_module_version": "1.2.0",
            "_view_name": "LayoutView",
            "align_content": null,
            "align_items": null,
            "align_self": null,
            "border": null,
            "bottom": null,
            "display": null,
            "flex": null,
            "flex_flow": null,
            "grid_area": null,
            "grid_auto_columns": null,
            "grid_auto_flow": null,
            "grid_auto_rows": null,
            "grid_column": null,
            "grid_gap": null,
            "grid_row": null,
            "grid_template_areas": null,
            "grid_template_columns": null,
            "grid_template_rows": null,
            "height": null,
            "justify_content": null,
            "justify_items": null,
            "left": null,
            "margin": null,
            "max_height": null,
            "max_width": null,
            "min_height": null,
            "min_width": null,
            "object_fit": null,
            "object_position": null,
            "order": null,
            "overflow": null,
            "overflow_x": null,
            "overflow_y": null,
            "padding": null,
            "right": null,
            "top": null,
            "visibility": null,
            "width": null
          }
        },
        "bdeed63e2c124c869f33657d48cc41f9": {
          "model_module": "@jupyter-widgets/controls",
          "model_module_version": "1.5.0",
          "model_name": "HTMLModel",
          "state": {
            "_dom_classes": [],
            "_model_module": "@jupyter-widgets/controls",
            "_model_module_version": "1.5.0",
            "_model_name": "HTMLModel",
            "_view_count": null,
            "_view_module": "@jupyter-widgets/controls",
            "_view_module_version": "1.5.0",
            "_view_name": "HTMLView",
            "description": "",
            "description_tooltip": null,
            "layout": "IPY_MODEL_c000de304c804d61b9c262139ac0b0bd",
            "placeholder": "​",
            "style": "IPY_MODEL_829ba9e5d62b4424870e491facc4948f",
            "value": "Processing: 100%"
          }
        },
        "c000de304c804d61b9c262139ac0b0bd": {
          "model_module": "@jupyter-widgets/base",
          "model_module_version": "1.2.0",
          "model_name": "LayoutModel",
          "state": {
            "_model_module": "@jupyter-widgets/base",
            "_model_module_version": "1.2.0",
            "_model_name": "LayoutModel",
            "_view_count": null,
            "_view_module": "@jupyter-widgets/base",
            "_view_module_version": "1.2.0",
            "_view_name": "LayoutView",
            "align_content": null,
            "align_items": null,
            "align_self": null,
            "border": null,
            "bottom": null,
            "display": null,
            "flex": null,
            "flex_flow": null,
            "grid_area": null,
            "grid_auto_columns": null,
            "grid_auto_flow": null,
            "grid_auto_rows": null,
            "grid_column": null,
            "grid_gap": null,
            "grid_row": null,
            "grid_template_areas": null,
            "grid_template_columns": null,
            "grid_template_rows": null,
            "height": null,
            "justify_content": null,
            "justify_items": null,
            "left": null,
            "margin": null,
            "max_height": null,
            "max_width": null,
            "min_height": null,
            "min_width": null,
            "object_fit": null,
            "object_position": null,
            "order": null,
            "overflow": null,
            "overflow_x": null,
            "overflow_y": null,
            "padding": null,
            "right": null,
            "top": null,
            "visibility": null,
            "width": null
          }
        },
        "f5d6a63e6ef54a959197c4da13ebeb57": {
          "model_module": "@jupyter-widgets/base",
          "model_module_version": "1.2.0",
          "model_name": "LayoutModel",
          "state": {
            "_model_module": "@jupyter-widgets/base",
            "_model_module_version": "1.2.0",
            "_model_name": "LayoutModel",
            "_view_count": null,
            "_view_module": "@jupyter-widgets/base",
            "_view_module_version": "1.2.0",
            "_view_name": "LayoutView",
            "align_content": null,
            "align_items": null,
            "align_self": null,
            "border": null,
            "bottom": null,
            "display": null,
            "flex": null,
            "flex_flow": null,
            "grid_area": null,
            "grid_auto_columns": null,
            "grid_auto_flow": null,
            "grid_auto_rows": null,
            "grid_column": null,
            "grid_gap": null,
            "grid_row": null,
            "grid_template_areas": null,
            "grid_template_columns": null,
            "grid_template_rows": null,
            "height": null,
            "justify_content": null,
            "justify_items": null,
            "left": null,
            "margin": null,
            "max_height": null,
            "max_width": null,
            "min_height": null,
            "min_width": null,
            "object_fit": null,
            "object_position": null,
            "order": null,
            "overflow": null,
            "overflow_x": null,
            "overflow_y": null,
            "padding": null,
            "right": null,
            "top": null,
            "visibility": "hidden",
            "width": null
          }
        }
      }
    }
  },
  "nbformat": 4,
  "nbformat_minor": 0
}
