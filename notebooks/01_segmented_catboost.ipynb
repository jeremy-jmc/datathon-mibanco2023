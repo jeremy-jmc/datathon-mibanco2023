{
 "cells": [
  {
   "cell_type": "code",
   "execution_count": 6,
   "metadata": {},
   "outputs": [],
   "source": [
    "import pandas as pd\n",
    "import os\n",
    "import seaborn as sns\n",
    "from sklearn.metrics import classification_report\n",
    "from sklearn.model_selection import train_test_split\n",
    "from catboost import CatBoostClassifier\n",
    "import warnings\n",
    "\n",
    "warnings.filterwarnings('ignore')\n",
    "pd.set_option('display.max_columns', None)\n",
    "pd.set_option('display.max_rows', 100)\n",
    "pd.set_option('float_format', '{:f}'.format)"
   ]
  },
  {
   "cell_type": "code",
   "execution_count": null,
   "metadata": {},
   "outputs": [],
   "source": [
    "data_train = pd.read_parquet('../data/processed/train.gzip')\n",
    "data_sub = pd.read_parquet('../data/processed/test.gzip')\n",
    "\n",
    "data_train.columns = [col.replace('-', '_') for col in data_train.columns]\n",
    "data_sub.columns = [col.replace('-', '_') for col in data_sub.columns]\n",
    "\n",
    "# list(data_train.columns)"
   ]
  },
  {
   "cell_type": "code",
   "execution_count": null,
   "metadata": {},
   "outputs": [],
   "source": [
    "data_sub_id = data_sub[['ID']]\n",
    "\n",
    "categorical_feats = ['CO_TIPO_SEXO', 'NO_DEPARTAMENTO', 'REGION']\n",
    "for col in categorical_feats:\n",
    "    data_train[col] = data_train[col].astype('category')\n",
    "    data_sub[col] = data_sub[col].astype('category')\n",
    "\n",
    "TARGET_VAR = 'TARGET'\n",
    "N_FOLDS = 5\n",
    "N_JOBS = os.cpu_count() // 2.5"
   ]
  },
  {
   "cell_type": "code",
   "execution_count": null,
   "metadata": {},
   "outputs": [],
   "source": [
    "exclude_substr_list = [\n",
    "    # 'CANT_', 'VAR_', 'DIFF_', \n",
    "    # 'min', 'max', 'first', 'last', 'median', \n",
    "    # 'MED_EMP', 'PEQ_EMP', 'MIC_EMP', \n",
    "    # 'REV', 'HIPOT', 'VENCIDO', 'DOLA', \n",
    "    # 'ANIO_BANCARIZACION', 'MES_BANCARIZACION', 'NO_DEPARTAMENTO', 'SALDO_EMP_TOTAL_mean'\n",
    "    ]\n",
    "\n",
    "selected_cols = [\n",
    "    'DIFF_SALDO_EMP_TOTAL_VENCIDO_1_mean',\n",
    "    'DIFF_SALDO_EMP_TOTAL_MA3_mean',\n",
    "    'SALDO_EMP_TOTAL_min',\n",
    "    'SALDO_EMP_TOTAL_max',\n",
    "    'SALDO_DOLA_CONS_mean',\n",
    "    'CANT_EMP_NEG_min',\n",
    "    'SALDO_CONS_REV_mean',\n",
    "    # 'SALDO_HIPOT_mean',\n",
    "    'SALDO_VENCIDO_mean',\n",
    "    'DIFF_SALDO_EMP_TOTAL_MA8_mean', \n",
    "    'MAX_LINEA_DISP_U6M_max', \n",
    "    'CO_TIPO_SEXO',\n",
    "    'MESES_HASTA_ACTUAL',\n",
    "    'EDAD',\n",
    "    'REGION', TARGET_VAR\n",
    "]\n",
    "data_train =  data_train.select_dtypes(include=['int64', 'float64', 'category'])\n",
    "# data_train =  data_train[[col for col in data_train.columns if all([sub not in col for sub in exclude_substr_list])]]\n",
    "data_train = data_train[selected_cols]\n",
    "\n",
    "data_sub = data_sub.select_dtypes(include=['int64', 'float64', 'category'])\n",
    "# data_sub = data_sub[[col for col in data_sub.columns if all([sub not in col for sub in exclude_substr_list])]]\n",
    "data_sub = data_sub[selected_cols]\n",
    "\n",
    "\n",
    "\n",
    "list(data_train.columns)\n",
    "print(data_train.dtypes)"
   ]
  },
  {
   "cell_type": "code",
   "execution_count": 23,
   "metadata": {},
   "outputs": [
    {
     "name": "stdout",
     "output_type": "stream",
     "text": [
      "\t\tCENTRO\n",
      "\t\tNORTE\n",
      "\t\tSUR\n",
      "              precision    recall  f1-score   support\n",
      "\n",
      "           0       0.91      0.93      0.92     77505\n",
      "           1       0.55      0.48      0.52     13678\n",
      "\n",
      "    accuracy                           0.86     91183\n",
      "   macro avg       0.73      0.71      0.72     91183\n",
      "weighted avg       0.86      0.86      0.86     91183\n",
      "\n"
     ]
    }
   ],
   "source": [
    "models = {}\n",
    "\n",
    "data_copy = data_train.copy()\n",
    "\n",
    "for region in data_train['REGION'].unique():\n",
    "    print(f'\\t\\t{region.upper()}')\n",
    "    sub_df = data_train[data_train['REGION'] == region].drop(columns=['REGION'])\n",
    "    X_train, X_test, y_train, y_test = train_test_split(sub_df.drop(columns=[TARGET_VAR]), sub_df[TARGET_VAR], test_size=0.2, random_state=42, stratify=sub_df[TARGET_VAR])\n",
    "\n",
    "    df_train = pd.concat([X_train, y_train], axis=1)\n",
    "    df_test = pd.concat([X_test, y_test], axis=1)\n",
    "    \n",
    "    cat_features = X_train.select_dtypes(include=['category']).columns.tolist()\n",
    "\n",
    "    # Initialize and train CatBoost model\n",
    "    cat_model = CatBoostClassifier(iterations=100, depth=6, learning_rate=0.1, loss_function='Logloss', cat_features=cat_features, verbose=0)\n",
    "    cat_model.fit(X_train, y_train)\n",
    "\n",
    "    FACTOR = 0.25\n",
    "    data_copy.loc[data_copy['REGION'] == region, 'PRED'] = cat_model.predict_proba(sub_df.drop(columns=[TARGET_VAR]))[:, 1]\n",
    "    data_copy.loc[data_copy['REGION'] == region, 'PRED'] = (data_copy.loc[data_copy['REGION'] == region, 'PRED'] > FACTOR).astype(int)\n",
    "\n",
    "    data_sub.loc[data_sub['REGION'] == region, 'TARGET'] = cat_model.predict_proba(data_sub[data_sub['REGION'] == region].drop(columns=[TARGET_VAR, 'REGION']))[:, 1]\n",
    "    data_sub.loc[data_sub['REGION'] == region, 'TARGET'] = (data_sub.loc[data_sub['REGION'] == region, 'TARGET'] > FACTOR).astype(int)\n",
    "\n",
    "print(classification_report(data_copy[TARGET_VAR], data_copy['PRED']))"
   ]
  },
  {
   "cell_type": "code",
   "execution_count": 20,
   "metadata": {},
   "outputs": [
    {
     "name": "stdout",
     "output_type": "stream",
     "text": [
      "0.000000   0.836697\n",
      "1.000000   0.163303\n",
      "Name: TARGET, dtype: float64\n"
     ]
    }
   ],
   "source": [
    "submission = pd.concat([data_sub_id, data_sub['TARGET']], axis=1)\n",
    "print(submission['TARGET'].value_counts(normalize=True))\n",
    "submission.to_csv('../data/results/catboost.csv', index=False)"
   ]
  }
 ],
 "metadata": {
  "kernelspec": {
   "display_name": "Python 3",
   "language": "python",
   "name": "python3"
  },
  "language_info": {
   "codemirror_mode": {
    "name": "ipython",
    "version": 3
   },
   "file_extension": ".py",
   "mimetype": "text/x-python",
   "name": "python",
   "nbconvert_exporter": "python",
   "pygments_lexer": "ipython3",
   "version": "3.10.12"
  }
 },
 "nbformat": 4,
 "nbformat_minor": 2
}
