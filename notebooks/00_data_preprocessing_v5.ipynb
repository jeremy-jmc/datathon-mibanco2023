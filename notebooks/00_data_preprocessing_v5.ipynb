{
   "cells": [
      {
         "cell_type": "code",
         "execution_count": 2,
         "metadata": {},
         "outputs": [],
         "source": [
            "import pandas as pd\n",
            "import numpy as np\n",
            "import missingno as msno\n",
            "import matplotlib.pyplot as plt\n",
            "import seaborn as sns\n",
            "import numpy as np\n",
            "from datetime import datetime\n",
            "\n",
            "pd.set_option('display.max_columns', None)\n",
            "pd.set_option('display.max_rows', 100)\n",
            "pd.set_option('float_format', '{:f}'.format)"
         ]
      },
      {
         "cell_type": "markdown",
         "metadata": {},
         "source": [
            "# *utils*"
         ]
      },
      {
         "cell_type": "code",
         "execution_count": 3,
         "metadata": {},
         "outputs": [],
         "source": [
            "def get_cols(df: pd.DataFrame) -> tuple:\n",
            "    numeric_columns = df.select_dtypes(include=np.number).columns.tolist()\n",
            "    categorical_columns = df.select_dtypes(exclude=np.number).columns.tolist()\n",
            "\n",
            "    return numeric_columns, categorical_columns\n",
            "\n",
            "zona_departamento = {\n",
            "    'Norte': ['LAMBAYEQUE', 'CAJAMARCA', 'PIURA', 'TUMBES', 'LA LIBERTAD', 'AMAZONAS', 'SAN MARTIN', 'LORETO'],\n",
            "    'Centro': ['JUNIN', 'ANCASH', 'HUANUCO', 'HUANCAVELICA', 'PASCO', 'AYACUCHO', 'UCAYALI'],\n",
            "    'Sur': ['AREQUIPA', 'MOQUEGUA', 'TACNA', 'CUSCO', 'PUNO', 'MADRE DE DIOS', 'ICA', 'APURIMAC', 'LIMA', 'CALLAO']\n",
            "}\n",
            "departamento_a_region = { v: k for k, values in zona_departamento.items() for v in values}\n",
            "\n",
            "def asignar_region(departamento):\n",
            "    return departamento_a_region.get(departamento, 'DESCONOCIDO')"
         ]
      },
      {
         "cell_type": "markdown",
         "metadata": {},
         "source": [
            "# *balances*"
         ]
      },
      {
         "cell_type": "code",
         "execution_count": null,
         "metadata": {},
         "outputs": [],
         "source": [
            "df_balances = (\n",
            "    pd.read_csv('../data/raw/balances.csv')\n",
            ")\n",
            "df_balances['PERIODO'] = df_balances['PERIODO'].astype(str)\n",
            "\n",
            "\"\"\"\n",
            "PERIODO - Periodo de extracción de los datos\n",
            "ID - Identificador único\n",
            "\n",
            "CANT_EMP_NEG - Cantidad de empresas de negocio\n",
            "CANT_EMP_CONS - Cantidad de empresas de consumo\n",
            "CANT_EMP_HIPOT - Cantidad de empresas hipotecario\n",
            "    * last\n",
            "    * variable para ver si cerro o abrio empresas en los ultimos 9 meses\n",
            "\n",
            "SALDO_MED_EMP - Saldo en mediana empresa\n",
            "SALDO_PEQ_EMP - Saldo en pequeña empresa\n",
            "SALDO_MIC_EMP - Saldo en micro empresa\n",
            "    * categorica para saber que tipo de empresa tiene\n",
            "    * last\n",
            "    * variacion promedio de los saldos en los saldos que tiene\n",
            "\n",
            "SALDO_CONS_REV - Saldo Consumo revolvente\n",
            "SALDO_CONS_NO_REV - Saldo Consumo NO revolvente\n",
            "    \n",
            "SALDO_HIPOT - Saldo en hipotecario\n",
            "SALDO_VENCIDO - Saldo vencido\n",
            "\n",
            "CANT_EMP_DOL_NEG - Cantidad de empresas de negocios en dólares\n",
            "SALDO_DOLA_NEG - Saldo en dólares de negocio\n",
            "CANT_EMP_DOL_CONS - Cantidad de empresas de consumo en dólares\n",
            "SALDO_DOLA_CONS - Saldo en dólares de consumo\n",
            "CANT_EMP_DOL_HIPOT - Cantidad de empresas de hipotecario en dólares\n",
            "SALDO_DOLA_HIPOT - Saldo en dólares de hipotecario\n",
            "MAX_LINEA_DISP_U6M - Línea Máxima disponible en los últimos 6 meses\n",
            "\"\"\""
         ]
      },
      {
         "cell_type": "code",
         "execution_count": null,
         "metadata": {},
         "outputs": [],
         "source": [
            "df_balances['CANT_EMP_DOL'] = df_balances['CANT_EMP_DOL_NEG'] + df_balances['CANT_EMP_DOL_CONS'] + df_balances['CANT_EMP_DOL_HIPOT']\n",
            "df_balances['SALDO_DOLA_TOTAL'] = df_balances['SALDO_DOLA_NEG'] + df_balances['SALDO_DOLA_CONS'] + df_balances['SALDO_DOLA_HIPOT']\n",
            "df_balances['SALDO_EMP_TOTAL'] = df_balances['SALDO_MED_EMP'] + df_balances['SALDO_PEQ_EMP'] + df_balances['SALDO_MIC_EMP'] + df_balances['SALDO_HIPOT']\n",
            "df_balances['SALDO_EMP_TOTAL-VENCIDO'] = df_balances['SALDO_EMP_TOTAL'] - df_balances['SALDO_VENCIDO']\n",
            "df_balances['SALDO_REV_NO_REV-VENCIDO'] = df_balances['SALDO_CONS_REV'] + df_balances['SALDO_CONS_NO_REV'] - df_balances['SALDO_VENCIDO']\n",
            "df_balances['SALDO_TOTAL-VENCIDO'] = df_balances['SALDO_EMP_TOTAL'] + df_balances['SALDO_CONS_REV'] + df_balances['SALDO_CONS_NO_REV'] - df_balances['SALDO_VENCIDO']\n",
            "\n",
            "df_balances['PROXY_MOROSIDAD_1'] = df_balances['SALDO_VENCIDO'] / df_balances['SALDO_EMP_TOTAL']\n",
            "df_balances['PROXY_MOROSIDAD_2'] = df_balances['SALDO_VENCIDO'] / (df_balances['SALDO_EMP_TOTAL'] + df_balances['SALDO_CONS_REV'] + df_balances['SALDO_CONS_NO_REV'])\n",
            "df_balances['PROXY_MOROSIDAD_3'] = df_balances['SALDO_VENCIDO'] / (df_balances['SALDO_CONS_REV'] + df_balances['SALDO_CONS_NO_REV'])"
         ]
      },
      {
         "cell_type": "code",
         "execution_count": null,
         "metadata": {},
         "outputs": [],
         "source": [
            "for col in ['SALDO_EMP_TOTAL', 'SALDO_EMP_TOTAL-VENCIDO', 'SALDO_REV_NO_REV-VENCIDO', 'SALDO_TOTAL-VENCIDO', 'MAX_LINEA_DISP_U6M', 'SALDO_DOLA_TOTAL']:\n",
            "    print(col)\n",
            "    df_balances[f'VAR_{col}_1'] = df_balances.groupby('ID')[f'{col}'].transform(lambda x: x.pct_change(periods=1))\n",
            "    df_balances[f'VAR_{col}_MA3'] = df_balances.groupby('ID')[f'{col}'].transform(lambda x: x.pct_change(periods=1).rolling(window=3).mean())\n",
            "    df_balances[f'VAR_{col}_MA6'] = df_balances.groupby('ID')[f'{col}'].transform(lambda x: x.pct_change(periods=1).rolling(window=6).mean())\n",
            "    df_balances[f'VAR_{col}_MA8'] = df_balances.groupby('ID')[f'{col}'].transform(lambda x: x.pct_change(periods=1).rolling(window=8).mean())\n",
            "\n",
            "    df_balances[f'DIFF_{col}_1'] = df_balances.groupby('ID')[f'{col}'].transform(lambda x: x.diff(periods=1))\n",
            "    df_balances[f'DIFF_{col}_MA3'] = df_balances.groupby('ID')[f'{col}'].transform(lambda x: x.diff(periods=1).rolling(window=3).mean())\n",
            "    df_balances[f'DIFF_{col}_MA6'] = df_balances.groupby('ID')[f'{col}'].transform(lambda x: x.diff(periods=1).rolling(window=6).mean())\n",
            "    df_balances[f'DIFF_{col}_MA8'] = df_balances.groupby('ID')[f'{col}'].transform(lambda x: x.diff(periods=1).rolling(window=8).mean())\n",
            "    \n",
            "for col in ['SALDO_PEQ_EMP', 'SALDO_MED_EMP', 'SALDO_MIC_EMP'] + ['CANT_EMP_NEG', 'CANT_EMP_CONS', 'CANT_EMP_HIPOT']:\n",
            "    print(col)\n",
            "    df_balances[f'{col}_FLAG'] = df_balances[f'{col}'].apply(lambda x: True if x != 0 else False)"
         ]
      },
      {
         "cell_type": "code",
         "execution_count": null,
         "metadata": {},
         "outputs": [],
         "source": [
            "df_balances.to_parquet('../data/processed/balances.gzip', compression='gzip')"
         ]
      },
      {
         "cell_type": "code",
         "execution_count": null,
         "metadata": {},
         "outputs": [],
         "source": [
            "df_balances_unirow = df_balances.groupby('ID').agg(\n",
            "    {\n",
            "        'CANT_EMP_NEG': ['max', 'last', 'min'],\n",
            "        'CANT_EMP_CONS': ['max', 'last', 'min'],\n",
            "        'CANT_EMP_HIPOT': ['max', 'last', 'min'],\n",
            "        \n",
            "        'SALDO_MED_EMP' : ['mean', 'median', 'last', 'min', 'max', 'first'],\n",
            "        'SALDO_PEQ_EMP' : ['mean', 'median', 'last', 'min', 'max', 'first'],\n",
            "        'SALDO_MIC_EMP' : ['mean', 'median', 'last', 'min', 'max', 'first'],\n",
            "        'SALDO_CONS_REV' : ['mean', 'median', 'last', 'min', 'max', 'first'],\n",
            "        'SALDO_CONS_NO_REV' : ['mean', 'median', 'last', 'min', 'max', 'first'],\n",
            "        'SALDO_HIPOT' : ['mean', 'median', 'last', 'min', 'max', 'first'],\n",
            "        'SALDO_VENCIDO' : ['mean', 'median', 'last', 'min', 'max', 'first'],\n",
            "\n",
            "        'CANT_EMP_DOL_NEG' : ['mean', 'median', 'last', 'min', 'max', 'first'],\n",
            "        'SALDO_DOLA_NEG' : ['mean', 'median', 'last', 'min', 'max', 'first'],\n",
            "        'CANT_EMP_DOL_CONS' : ['mean', 'median', 'last', 'min', 'max', 'first'],\n",
            "        'SALDO_DOLA_CONS' : ['mean', 'median', 'last', 'min', 'max', 'first'],\n",
            "        'CANT_EMP_DOL_HIPOT' : ['mean', 'median', 'last', 'min', 'max', 'first'],\n",
            "        'SALDO_DOLA_HIPOT' : ['mean', 'median', 'last', 'min', 'max', 'first'],\n",
            "        'MAX_LINEA_DISP_U6M' : ['mean', 'median', 'last', 'min', 'max', 'first'],\n",
            "\n",
            "        'SALDO_EMP_TOTAL': ['mean', 'last', 'max', 'min', 'median'],\n",
            "        \n",
            "        'VAR_SALDO_EMP_TOTAL_1' : ['mean', 'median'], \n",
            "        'VAR_SALDO_EMP_TOTAL_MA3' : ['mean', 'median'], \n",
            "        'VAR_SALDO_EMP_TOTAL_MA6' : ['mean', 'median'],\n",
            "        'VAR_SALDO_EMP_TOTAL_MA8' : ['mean', 'median'], \n",
            "        \n",
            "        'VAR_SALDO_EMP_TOTAL-VENCIDO_1' : ['mean', 'median'],\n",
            "        'VAR_SALDO_EMP_TOTAL-VENCIDO_MA3' : ['mean', 'median'],\n",
            "        'VAR_SALDO_EMP_TOTAL-VENCIDO_MA6' : ['mean', 'median'],\n",
            "        'VAR_SALDO_EMP_TOTAL-VENCIDO_MA8' : ['mean', 'median'],\n",
            "        \n",
            "        'DIFF_SALDO_EMP_TOTAL_1' : ['mean', 'median'],\n",
            "        'DIFF_SALDO_EMP_TOTAL_MA3' : ['mean', 'median'],\n",
            "        'DIFF_SALDO_EMP_TOTAL_MA6' : ['mean', 'median'],\n",
            "        'DIFF_SALDO_EMP_TOTAL_MA8' : ['mean', 'median'],\n",
            "\n",
            "        'DIFF_SALDO_EMP_TOTAL-VENCIDO_1' : ['mean', 'median'],\n",
            "        'DIFF_SALDO_EMP_TOTAL-VENCIDO_MA3' : ['mean', 'median'],\n",
            "        'DIFF_SALDO_EMP_TOTAL-VENCIDO_MA6' : ['mean', 'median'],\n",
            "        'DIFF_SALDO_EMP_TOTAL-VENCIDO_MA8' : ['mean', 'median'],\n",
            "\n",
            "        'DIFF_MAX_LINEA_DISP_U6M_1': ['mean', 'median'],\n",
            "        'DIFF_MAX_LINEA_DISP_U6M_MA3': ['mean', 'median'],\n",
            "        'DIFF_MAX_LINEA_DISP_U6M_MA6': ['mean', 'median'],\n",
            "        'DIFF_MAX_LINEA_DISP_U6M_MA8': ['mean', 'median'],\n",
            "\n",
            "        'VAR_SALDO_REV_NO_REV-VENCIDO_1' : ['mean', 'median'],\n",
            "        'VAR_SALDO_REV_NO_REV-VENCIDO_MA3' : ['mean', 'median'],\n",
            "        'VAR_SALDO_REV_NO_REV-VENCIDO_MA6' : ['mean', 'median'],\n",
            "        'VAR_SALDO_REV_NO_REV-VENCIDO_MA8' : ['mean', 'median'],\n",
            "\n",
            "        'VAR_SALDO_TOTAL-VENCIDO_1' : ['mean', 'median'],\n",
            "        'VAR_SALDO_TOTAL-VENCIDO_MA3' : ['mean', 'median'],\n",
            "        'VAR_SALDO_TOTAL-VENCIDO_MA6' : ['mean', 'median'],\n",
            "        'VAR_SALDO_TOTAL-VENCIDO_MA8' : ['mean', 'median'],\n",
            "\n",
            "        'VAR_MAX_LINEA_DISP_U6M_1': ['mean', 'median'],\n",
            "        'VAR_MAX_LINEA_DISP_U6M_MA3': ['mean', 'median'],\n",
            "        'VAR_MAX_LINEA_DISP_U6M_MA6': ['mean', 'median'],\n",
            "        'VAR_MAX_LINEA_DISP_U6M_MA8': ['mean', 'median'],\n",
            "\n",
            "        'VAR_SALDO_DOLA_TOTAL_1': ['mean', 'median'],\n",
            "        'VAR_SALDO_DOLA_TOTAL_MA3': ['mean', 'median'],\n",
            "        'VAR_SALDO_DOLA_TOTAL_MA6': ['mean', 'median'],\n",
            "        'VAR_SALDO_DOLA_TOTAL_MA8': ['mean', 'median'],\n",
            "\n",
            "        'DIFF_SALDO_DOLA_TOTAL_1': ['mean', 'median'],\n",
            "        'DIFF_SALDO_DOLA_TOTAL_MA3': ['mean', 'median'],\n",
            "        'DIFF_SALDO_DOLA_TOTAL_MA6': ['mean', 'median'],\n",
            "        'DIFF_SALDO_DOLA_TOTAL_MA8': ['mean', 'median'],\n",
            "        \n",
            "        'SALDO_PEQ_EMP_FLAG' : ['any'],\n",
            "        'SALDO_MED_EMP_FLAG' : ['any'],\n",
            "        'SALDO_MIC_EMP_FLAG' : ['any'],\n",
            "        'CANT_EMP_NEG_FLAG' : ['any'],\n",
            "        'CANT_EMP_CONS_FLAG' : ['any'],\n",
            "        'CANT_EMP_HIPOT_FLAG' : ['any'],\n",
            "\n",
            "        'PROXY_MOROSIDAD_1': ['mean', 'median'],\n",
            "        'PROXY_MOROSIDAD_2': ['mean', 'median'],\n",
            "        'PROXY_MOROSIDAD_3': ['mean', 'median'],\n",
            "    }\n",
            ").replace([np.inf, -np.inf], np.nan).fillna(0)\n",
            "\n",
            "df_balances_unirow.columns = ['_'.join(col) for col in df_balances_unirow.columns.values]\n",
            "df_balances_unirow = df_balances_unirow.reset_index()"
         ]
      },
      {
         "cell_type": "markdown",
         "metadata": {},
         "source": [
            "# *customers*"
         ]
      },
      {
         "cell_type": "code",
         "execution_count": 5,
         "metadata": {},
         "outputs": [
            {
               "data": {
                  "text/html": [
                     "<div>\n",
                     "<style scoped>\n",
                     "    .dataframe tbody tr th:only-of-type {\n",
                     "        vertical-align: middle;\n",
                     "    }\n",
                     "\n",
                     "    .dataframe tbody tr th {\n",
                     "        vertical-align: top;\n",
                     "    }\n",
                     "\n",
                     "    .dataframe thead th {\n",
                     "        text-align: right;\n",
                     "    }\n",
                     "</style>\n",
                     "<table border=\"1\" class=\"dataframe\">\n",
                     "  <thead>\n",
                     "    <tr style=\"text-align: right;\">\n",
                     "      <th></th>\n",
                     "      <th>ID</th>\n",
                     "      <th>CO_TIPO_SEXO</th>\n",
                     "      <th>EDAD</th>\n",
                     "      <th>NO_DEPARTAMENTO</th>\n",
                     "      <th>NO_PROVINCIA</th>\n",
                     "      <th>DE_CIIU</th>\n",
                     "      <th>ANIO_BANCARIZACION</th>\n",
                     "      <th>MES_BANCARIZACION</th>\n",
                     "    </tr>\n",
                     "  </thead>\n",
                     "  <tbody>\n",
                     "    <tr>\n",
                     "      <th>0</th>\n",
                     "      <td>8bd775237f2f4c7cae87c255e9e71d62</td>\n",
                     "      <td>1</td>\n",
                     "      <td>48.000000</td>\n",
                     "      <td>CAJAMARCA</td>\n",
                     "      <td>CONTUMAZA</td>\n",
                     "      <td>OTRAS ACTIVIDADES NO CLASIFICAD.EN OTRA PARTE\\r\\n</td>\n",
                     "      <td>2013</td>\n",
                     "      <td>7</td>\n",
                     "    </tr>\n",
                     "    <tr>\n",
                     "      <th>1</th>\n",
                     "      <td>2409b242893e4ea4b7e6af1292030666</td>\n",
                     "      <td>3</td>\n",
                     "      <td>NaN</td>\n",
                     "      <td>NaN</td>\n",
                     "      <td>NaN</td>\n",
                     "      <td>OTRAS ACTIVIDADES NO CLASIFICAD.EN OTRA PARTE\\r\\n</td>\n",
                     "      <td>2017</td>\n",
                     "      <td>9</td>\n",
                     "    </tr>\n",
                     "    <tr>\n",
                     "      <th>2</th>\n",
                     "      <td>65edb7eb9d144b2184ef76ec2c35cdf8</td>\n",
                     "      <td>1</td>\n",
                     "      <td>38.000000</td>\n",
                     "      <td>NaN</td>\n",
                     "      <td>NaN</td>\n",
                     "      <td>OTRAS ACTIVIDADES NO CLASIFICAD.EN OTRA PARTE\\r\\n</td>\n",
                     "      <td>2008</td>\n",
                     "      <td>2</td>\n",
                     "    </tr>\n",
                     "    <tr>\n",
                     "      <th>3</th>\n",
                     "      <td>2fef711096234036807b01a5a697a81c</td>\n",
                     "      <td>1</td>\n",
                     "      <td>61.000000</td>\n",
                     "      <td>TACNA</td>\n",
                     "      <td>TACNA</td>\n",
                     "      <td>VTA.  MIN. ALIMENTOS, BEBIDAS, TABACO.</td>\n",
                     "      <td>2006</td>\n",
                     "      <td>1</td>\n",
                     "    </tr>\n",
                     "    <tr>\n",
                     "      <th>4</th>\n",
                     "      <td>796443da390d409ba3e7b775fde576cd</td>\n",
                     "      <td>3</td>\n",
                     "      <td>29.000000</td>\n",
                     "      <td>LAMBAYEQUE</td>\n",
                     "      <td>CHICLAYO</td>\n",
                     "      <td>OTRAS ACTIVID.DE TIPO SERVICIO NCP</td>\n",
                     "      <td>2014</td>\n",
                     "      <td>6</td>\n",
                     "    </tr>\n",
                     "    <tr>\n",
                     "      <th>...</th>\n",
                     "      <td>...</td>\n",
                     "      <td>...</td>\n",
                     "      <td>...</td>\n",
                     "      <td>...</td>\n",
                     "      <td>...</td>\n",
                     "      <td>...</td>\n",
                     "      <td>...</td>\n",
                     "      <td>...</td>\n",
                     "    </tr>\n",
                     "    <tr>\n",
                     "      <th>151967</th>\n",
                     "      <td>54a73b9c515f46d19c0182e3f44f44fe</td>\n",
                     "      <td>3</td>\n",
                     "      <td>25.000000</td>\n",
                     "      <td>NaN</td>\n",
                     "      <td>NaN</td>\n",
                     "      <td>VTA.  MIN. PROD. FARMAC. Y ART. TOCADOR.</td>\n",
                     "      <td>2021</td>\n",
                     "      <td>8</td>\n",
                     "    </tr>\n",
                     "    <tr>\n",
                     "      <th>151968</th>\n",
                     "      <td>1df55d6b6af544b58312d68241a10e4f</td>\n",
                     "      <td>3</td>\n",
                     "      <td>32.000000</td>\n",
                     "      <td>LAMBAYEQUE</td>\n",
                     "      <td>CHICLAYO</td>\n",
                     "      <td>TRANSPORTE  DE CARGA POR CARRETERA.</td>\n",
                     "      <td>2018</td>\n",
                     "      <td>9</td>\n",
                     "    </tr>\n",
                     "    <tr>\n",
                     "      <th>151969</th>\n",
                     "      <td>5dd4a95d877d4474a277173c6fe4d227</td>\n",
                     "      <td>1</td>\n",
                     "      <td>62.000000</td>\n",
                     "      <td>NaN</td>\n",
                     "      <td>NaN</td>\n",
                     "      <td>TRANSPORTE  DE CARGA POR CARRETERA.</td>\n",
                     "      <td>2006</td>\n",
                     "      <td>1</td>\n",
                     "    </tr>\n",
                     "    <tr>\n",
                     "      <th>151970</th>\n",
                     "      <td>cbad53becdb042cfb98a992566ec0e94</td>\n",
                     "      <td>2</td>\n",
                     "      <td>51.000000</td>\n",
                     "      <td>NaN</td>\n",
                     "      <td>NaN</td>\n",
                     "      <td>OTROS TIPOS DE VENTA AL POR MENOR.</td>\n",
                     "      <td>2013</td>\n",
                     "      <td>2</td>\n",
                     "    </tr>\n",
                     "    <tr>\n",
                     "      <th>151971</th>\n",
                     "      <td>bba7b374a8b04a4cbfe457c5e0da3cd9</td>\n",
                     "      <td>2</td>\n",
                     "      <td>36.000000</td>\n",
                     "      <td>TUMBES</td>\n",
                     "      <td>TUMBES</td>\n",
                     "      <td>OTRAS ACTIVID.DE TIPO SERVICIO NCP</td>\n",
                     "      <td>2013</td>\n",
                     "      <td>3</td>\n",
                     "    </tr>\n",
                     "  </tbody>\n",
                     "</table>\n",
                     "<p>151972 rows × 8 columns</p>\n",
                     "</div>"
                  ],
                  "text/plain": [
                     "                                      ID CO_TIPO_SEXO      EDAD  \\\n",
                     "0       8bd775237f2f4c7cae87c255e9e71d62            1 48.000000   \n",
                     "1       2409b242893e4ea4b7e6af1292030666            3       NaN   \n",
                     "2       65edb7eb9d144b2184ef76ec2c35cdf8            1 38.000000   \n",
                     "3       2fef711096234036807b01a5a697a81c            1 61.000000   \n",
                     "4       796443da390d409ba3e7b775fde576cd            3 29.000000   \n",
                     "...                                  ...          ...       ...   \n",
                     "151967  54a73b9c515f46d19c0182e3f44f44fe            3 25.000000   \n",
                     "151968  1df55d6b6af544b58312d68241a10e4f            3 32.000000   \n",
                     "151969  5dd4a95d877d4474a277173c6fe4d227            1 62.000000   \n",
                     "151970  cbad53becdb042cfb98a992566ec0e94            2 51.000000   \n",
                     "151971  bba7b374a8b04a4cbfe457c5e0da3cd9            2 36.000000   \n",
                     "\n",
                     "       NO_DEPARTAMENTO NO_PROVINCIA  \\\n",
                     "0            CAJAMARCA    CONTUMAZA   \n",
                     "1                  NaN          NaN   \n",
                     "2                  NaN          NaN   \n",
                     "3                TACNA        TACNA   \n",
                     "4           LAMBAYEQUE     CHICLAYO   \n",
                     "...                ...          ...   \n",
                     "151967             NaN          NaN   \n",
                     "151968      LAMBAYEQUE     CHICLAYO   \n",
                     "151969             NaN          NaN   \n",
                     "151970             NaN          NaN   \n",
                     "151971          TUMBES       TUMBES   \n",
                     "\n",
                     "                                                  DE_CIIU  ANIO_BANCARIZACION  \\\n",
                     "0       OTRAS ACTIVIDADES NO CLASIFICAD.EN OTRA PARTE\\r\\n                2013   \n",
                     "1       OTRAS ACTIVIDADES NO CLASIFICAD.EN OTRA PARTE\\r\\n                2017   \n",
                     "2       OTRAS ACTIVIDADES NO CLASIFICAD.EN OTRA PARTE\\r\\n                2008   \n",
                     "3                  VTA.  MIN. ALIMENTOS, BEBIDAS, TABACO.                2006   \n",
                     "4                      OTRAS ACTIVID.DE TIPO SERVICIO NCP                2014   \n",
                     "...                                                   ...                 ...   \n",
                     "151967           VTA.  MIN. PROD. FARMAC. Y ART. TOCADOR.                2021   \n",
                     "151968                TRANSPORTE  DE CARGA POR CARRETERA.                2018   \n",
                     "151969                TRANSPORTE  DE CARGA POR CARRETERA.                2006   \n",
                     "151970                 OTROS TIPOS DE VENTA AL POR MENOR.                2013   \n",
                     "151971                 OTRAS ACTIVID.DE TIPO SERVICIO NCP                2013   \n",
                     "\n",
                     "        MES_BANCARIZACION  \n",
                     "0                       7  \n",
                     "1                       9  \n",
                     "2                       2  \n",
                     "3                       1  \n",
                     "4                       6  \n",
                     "...                   ...  \n",
                     "151967                  8  \n",
                     "151968                  9  \n",
                     "151969                  1  \n",
                     "151970                  2  \n",
                     "151971                  3  \n",
                     "\n",
                     "[151972 rows x 8 columns]"
                  ]
               },
               "execution_count": 5,
               "metadata": {},
               "output_type": "execute_result"
            }
         ],
         "source": [
            "df_customers = (\n",
            "    pd.read_csv('../data/raw/customers.csv')\n",
            "    .assign(\n",
            "        PER_BANCARIZACION = lambda row: row['PER_BANCARIZACION'].astype(str)\n",
            "    )\n",
            "    .assign(\n",
            "        ANIO_BANCARIZACION = lambda row: row['PER_BANCARIZACION'].str[:4],\n",
            "        MES_BANCARIZACION = lambda row: row['PER_BANCARIZACION'].str[5:7]\n",
            "    )\n",
            "    .assign(\n",
            "        ANIO_BANCARIZACION = lambda row: row['ANIO_BANCARIZACION'].astype(int),\n",
            "        MES_BANCARIZACION = lambda row: row['MES_BANCARIZACION'].astype(int)\n",
            "    )\n",
            "    .drop(columns=['PER_BANCARIZACION'])\n",
            ")\n",
            "df_customers['CO_TIPO_SEXO'] = df_customers['CO_TIPO_SEXO'].astype('category')\n",
            "\n",
            "df_customers\n"
         ]
      },
      {
         "cell_type": "code",
         "execution_count": 7,
         "metadata": {},
         "outputs": [],
         "source": [
            "nc, cc = get_cols(df_customers)\n",
            "cc.remove('ID')\n",
            "cc.remove('DE_CIIU')"
         ]
      },
      {
         "cell_type": "code",
         "execution_count": 8,
         "metadata": {},
         "outputs": [],
         "source": [
            "from sklearn.impute import KNNImputer\n",
            "from sklearn.preprocessing import OneHotEncoder\n",
            "from sklearn.compose import ColumnTransformer\n",
            "from sklearn.pipeline import Pipeline"
         ]
      },
      {
         "cell_type": "markdown",
         "metadata": {},
         "source": [
            "## *Imputing `NO_PROVINCIA`*"
         ]
      },
      {
         "cell_type": "code",
         "execution_count": null,
         "metadata": {},
         "outputs": [],
         "source": [
            "preprocessor = ColumnTransformer(\n",
            "    transformers=[\n",
            "        ('cat', OneHotEncoder(sparse_output=False), cc),\n",
            "        ('num', 'passthrough', nc)\n",
            "    ]\n",
            ")\n",
            "\n",
            "pipeline = Pipeline([\n",
            "    ('preprocessor', preprocessor),\n",
            "    ('imputer', KNNImputer(n_neighbors=5, weights='uniform', metric='nan_euclidean'))\n",
            "])\n",
            "\n",
            "df_customer_imputed = pipeline.fit_transform(df_customers)\n",
            "df_costumer_imputed = pd.DataFrame(df_customer_imputed, columns=preprocessor.get_feature_names_out())\n"
         ]
      },
      {
         "cell_type": "code",
         "execution_count": null,
         "metadata": {},
         "outputs": [],
         "source": [
            "df_costumer_imputed.to_parquet(\"../data/raw/costumer_imputed_one_hot.gzip\", compression='gzip')"
         ]
      },
      {
         "cell_type": "code",
         "execution_count": null,
         "metadata": {},
         "outputs": [],
         "source": [
            "# version inversa de one hot encoding en la columna de EDAD\n",
            "df_customers_imputed = pd.read_parquet('../data/raw/costumer_imputed_one_hot.gzip')\n",
            "\n",
            "nodpto_cols = [col for col in df_customers_imputed if 'cat__NO_DEPARTAMENTO' in col]\n",
            "\n",
            "df_customers_imputed['departamento'] = df_customers_imputed[nodpto_cols].idxmax(axis=1).str.replace('cat__NO_DEPARTAMENTO_', '')\n",
            "df_customers_imputed['departamento'].value_counts()"
         ]
      },
      {
         "cell_type": "code",
         "execution_count": null,
         "metadata": {},
         "outputs": [],
         "source": [
            "sns.kdeplot(df_customers['EDAD'], label='original', linewidth=2, color='blue', alpha=0.5)\n",
            "sns.kdeplot(df_customers_imputed['num__EDAD'], label='catboost_imputed', linewidth=2, color='red', alpha=0.5)\n",
            "plt.legend()\n",
            "plt.show()"
         ]
      },
      {
         "cell_type": "code",
         "execution_count": null,
         "metadata": {},
         "outputs": [],
         "source": [
            "df_customers.loc[lambda df : (df['MES_BANCARIZACION']) < 1 | (df['MES_BANCARIZACION'] > 12), ['MES_BANCARIZACION']] = 1\n",
            "df_customers['FECHA_BANCARIZACION'] = pd.to_datetime(df_customers['ANIO_BANCARIZACION'].astype(str) + df_customers['MES_BANCARIZACION'].astype(str).str.zfill(2), format='%Y%m')\n",
            "df_customers['CO_TIPO_SEXO'] = df_customers['CO_TIPO_SEXO'].astype('category')\n",
            "df_customers['NO_DEPARTAMENTO'] = df_customers['NO_DEPARTAMENTO'].replace('nan', np.nan)\n",
            "df_customers['NO_DEPARTAMENTO'] = df_customers['NO_DEPARTAMENTO'].astype('category')\n",
            "\n",
            "df_customers['MESES_HASTA_ACTUAL'] = (datetime.now() - df_customers['FECHA_BANCARIZACION']) // pd.Timedelta(days=30)      # astype('<m8[M]')\n",
            "df_customers = df_customers.drop(columns=['FECHA_BANCARIZACION'])   # 'ANIO_BANCARIZACION', 'MES_BANCARIZACION', \n",
            "df_customers['EDAD'] = df_customers_imputed['num__EDAD']\n"
         ]
      },
      {
         "cell_type": "code",
         "execution_count": null,
         "metadata": {},
         "outputs": [],
         "source": [
            "df_customers['REGION'] = df_customers['NO_DEPARTAMENTO'].apply(asignar_region)"
         ]
      },
      {
         "cell_type": "code",
         "execution_count": null,
         "metadata": {},
         "outputs": [],
         "source": [
            "df_customers['EDAD'] = df_costumer_imputed['EDAD']\n",
            "df_customers['ANIO_BANCARIZACION'] = df_costumer_imputed['ANIO_BANCARIZACION']\n",
            "df_customers['MES_BANCARIZACION'] = df_costumer_imputed['MES_BANCARIZACION']"
         ]
      },
      {
         "cell_type": "code",
         "execution_count": null,
         "metadata": {},
         "outputs": [],
         "source": [
            "df_customers['CO_TIPO_SEXO'] = df_customers['CO_TIPO_SEXO'].astype('category')\n",
            "df_customers['NO_DEPARTAMENTO'] = df_customers['NO_DEPARTAMENTO'].astype('category')\n",
            "df_customers['NO_PROVINCIA'] = df_customers['NO_PROVINCIA'].astype('category')\n",
            "df_customers['MES_BANCARIZACION'] = df_customers['MES_BANCARIZACION'].astype('int')\n",
            "df_customers['ANIO_BANCARIZACION'] = df_customers['ANIO_BANCARIZACION'].astype('int')\n",
            "df_customers.dtypes"
         ]
      },
      {
         "cell_type": "code",
         "execution_count": null,
         "metadata": {},
         "outputs": [],
         "source": [
            "df_customers = df_customers[df_customers['NO_PROVINCIA'] != 'PURUS']"
         ]
      },
      {
         "cell_type": "code",
         "execution_count": null,
         "metadata": {},
         "outputs": [],
         "source": [
            "from sklearn.model_selection import train_test_split\n",
            "from sklearn.metrics import accuracy_score\n",
            "from catboost import CatBoostClassifier"
         ]
      },
      {
         "cell_type": "code",
         "execution_count": null,
         "metadata": {},
         "outputs": [],
         "source": [
            "df_conocidos = df_customers.dropna(subset=['NO_PROVINCIA'])\n",
            "df_desconocidos = df_customers[df_customers['NO_PROVINCIA'].isnull()]\n",
            "\n",
            "x = df_conocidos.drop(columns=['ID','NO_PROVINCIA'], axis=1)\n",
            "y = df_conocidos['NO_PROVINCIA']\n",
            "\n",
            "X_train, X_test, y_train, y_test = train_test_split(x, y, test_size=0.4, random_state=42)\n",
            "\n",
            "cat_features = ['NO_DEPARTAMENTO', 'CO_TIPO_SEXO']\n",
            "modelo = CatBoostClassifier(iterations=100, depth=6, learning_rate=0.1, loss_function='MultiClass', random_state=42, cat_features=cat_features, task_type='GPU', devices='0:1')\n",
            "modelo.fit(X_train, y_train, eval_set=(X_test, y_test), early_stopping_rounds=10, verbose=False)"
         ]
      },
      {
         "cell_type": "code",
         "execution_count": null,
         "metadata": {},
         "outputs": [],
         "source": [
            "df_desconocidos = df_customers[df_customers['NO_PROVINCIA'].isnull()]\n",
            "predicciones = modelo.predict(df_desconocidos.drop(['NO_PROVINCIA', 'ID'], axis=1))"
         ]
      },
      {
         "cell_type": "code",
         "execution_count": null,
         "metadata": {},
         "outputs": [],
         "source": [
            "df_customers_imputed = df_customers.copy()\n",
            "df_customers_imputed.loc[df_customers_imputed['NO_PROVINCIA'].isnull(), 'NO_PROVINCIA'] = predicciones"
         ]
      },
      {
         "cell_type": "code",
         "execution_count": null,
         "metadata": {},
         "outputs": [],
         "source": [
            "df_customers_imputed.to_parquet('customers_imputed_no_provincia.gzip', compression='gzip')"
         ]
      },
      {
         "cell_type": "markdown",
         "metadata": {},
         "source": [
            "# *Merging balances with customers*"
         ]
      },
      {
         "cell_type": "code",
         "execution_count": null,
         "metadata": {},
         "outputs": [],
         "source": [
            "df_join = df_customers.merge(\n",
            "    df_balances_unirow, how='left', on='ID'\n",
            ")\n",
            "df_join['NO_DEPARTAMENTO'] = df_join['NO_DEPARTAMENTO'].astype(str).replace('nan', np.nan)"
         ]
      },
      {
         "cell_type": "markdown",
         "metadata": {},
         "source": [
            "## *Imputing `NO_DEPARTAMENTO`*"
         ]
      },
      {
         "cell_type": "code",
         "execution_count": null,
         "metadata": {},
         "outputs": [],
         "source": [
            "from sklearn.preprocessing import OrdinalEncoder\n",
            "\n",
            "encoder = OrdinalEncoder()\n",
            "df_encoded = pd.DataFrame(encoder.fit_transform(df_join[['NO_DEPARTAMENTO']]), columns=['NO_DEPARTAMENTO'])\n",
            "\n",
            "nc, cc = get_cols(df_join)\n",
            "df_combined = pd.concat([df_join[nc], df_encoded], axis=1)\n",
            "\n",
            "imputer = KNNImputer(n_neighbors=5)\n",
            "df_imputed = pd.DataFrame(imputer.fit_transform(df_combined), columns=df_combined.columns)\n",
            "\n",
            "df_imputed['NO_DEPARTAMENTO'] = encoder.inverse_transform(df_imputed[['NO_DEPARTAMENTO']])\n",
            "df_imputed[['EDAD', 'NO_DEPARTAMENTO']].to_parquet('../data/processed/customers_departamento_imputed.gzip', compression='gzip')\n",
            "del df_imputed"
         ]
      },
      {
         "cell_type": "code",
         "execution_count": null,
         "metadata": {},
         "outputs": [],
         "source": [
            "df_dep = pd.read_parquet('../data/processed/customers_departamento_imputed.gzip')"
         ]
      },
      {
         "cell_type": "code",
         "execution_count": null,
         "metadata": {},
         "outputs": [],
         "source": [
            "df_join['NO_DEPARTAMENTO'] = df_dep['NO_DEPARTAMENTO']\n",
            "df_join['REGION'] = df_join['NO_DEPARTAMENTO'].apply(asignar_region)"
         ]
      },
      {
         "cell_type": "code",
         "execution_count": null,
         "metadata": {},
         "outputs": [],
         "source": [
            "df_no_provincia = pd.read_parquet('../data/processed/customers_imputed_no_provincia.gzip')"
         ]
      },
      {
         "cell_type": "code",
         "execution_count": null,
         "metadata": {},
         "outputs": [],
         "source": [
            "df_join['NO_PROVINCIA'] = df_no_provincia['NO_PROVINCIA']"
         ]
      },
      {
         "cell_type": "code",
         "execution_count": null,
         "metadata": {},
         "outputs": [],
         "source": [
            "df_train = pd.read_csv('../data/raw/train.csv').merge(df_join, how='left', on='ID')\n",
            "df_test = pd.read_csv('../data/raw/test.csv').merge(df_join, how='left', on='ID')"
         ]
      },
      {
         "cell_type": "markdown",
         "metadata": {},
         "source": [
            "# *Pivoting balances*"
         ]
      },
      {
         "cell_type": "code",
         "execution_count": null,
         "metadata": {},
         "outputs": [],
         "source": [
            "selected_cols = [\n",
            "    col for col in df_balances_unirow.columns \n",
            "    if (\n",
            "        all([sub in col for sub in ['DIFF', '_1']]) or \n",
            "        # all([sub in col for sub in ['VAR', '_1']]) or \n",
            "        any([col.startswith(sub) for sub in ['PERIODO', 'ID', 'SALDO', 'MAX_LINEA_DISP_U6M']])) \n",
            "        and 'FLAG' not in col\n",
            "    ]\n",
            "print(selected_cols)\n",
            "\n",
            "diff_mensual_pivoted = (\n",
            "    df_balances_unirow\n",
            "    [selected_cols]\n",
            "    .dropna(how='all', subset=selected_cols)\n",
            "    .pivot_table(index=['ID'], columns=['PERIODO'], values=selected_cols)\n",
            "    .reset_index()\n",
            ")\n",
            "diff_mensual_pivoted.columns = ['_'.join(col).strip() for col in diff_mensual_pivoted.columns.values]\n",
            "# diff_mensual_pivoted = diff_mensual_pivoted.replace([np.inf, -np.inf], np.nan)\n",
            "diff_mensual_pivoted = diff_mensual_pivoted.rename(columns={'ID_':'ID'})"
         ]
      },
      {
         "cell_type": "code",
         "execution_count": null,
         "metadata": {},
         "outputs": [],
         "source": [
            "df_train = df_train.merge(diff_mensual_pivoted, on='ID', how='left')\n",
            "df_test = df_test.merge(diff_mensual_pivoted, on='ID', how='left')"
         ]
      },
      {
         "cell_type": "markdown",
         "metadata": {},
         "source": [
            "# *Saving train test data*"
         ]
      },
      {
         "cell_type": "code",
         "execution_count": null,
         "metadata": {},
         "outputs": [],
         "source": [
            "df_train.dropna(how='any').to_parquet('../data/processed/train.gzip', compression='gzip')\n",
            "df_test.to_parquet('../data/processed/test.gzip', compression='gzip')"
         ]
      }
   ],
   "metadata": {
      "kernelspec": {
         "display_name": "base",
         "language": "python",
         "name": "python3"
      },
      "language_info": {
         "codemirror_mode": {
            "name": "ipython",
            "version": 3
         },
         "file_extension": ".py",
         "mimetype": "text/x-python",
         "name": "python",
         "nbconvert_exporter": "python",
         "pygments_lexer": "ipython3",
         "version": "3.10.12"
      }
   },
   "nbformat": 4,
   "nbformat_minor": 2
}
